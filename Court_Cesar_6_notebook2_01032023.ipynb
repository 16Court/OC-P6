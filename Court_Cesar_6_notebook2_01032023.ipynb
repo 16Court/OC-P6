{
 "cells": [
  {
   "cell_type": "markdown",
   "id": "2e280dbd",
   "metadata": {},
   "source": [
    "## Partie 2 : Travail d'analyse"
   ]
  },
  {
   "cell_type": "code",
   "execution_count": 35,
   "id": "7e14687a",
   "metadata": {},
   "outputs": [],
   "source": [
    "%matplotlib inline\n",
    "import numpy as np\n",
    "import pandas as pd\n",
    "import matplotlib.pyplot as plt\n",
    "import seaborn as sns\n",
    "import datetime\n",
    "import scipy\n",
    "from math import exp, sqrt, pi\n",
    "from scipy.stats import chi2_contingency, pearsonr\n"
   ]
  },
  {
   "cell_type": "code",
   "execution_count": 36,
   "id": "31d53656",
   "metadata": {},
   "outputs": [
    {
     "data": {
      "text/html": [
       "<div>\n",
       "<style scoped>\n",
       "    .dataframe tbody tr th:only-of-type {\n",
       "        vertical-align: middle;\n",
       "    }\n",
       "\n",
       "    .dataframe tbody tr th {\n",
       "        vertical-align: top;\n",
       "    }\n",
       "\n",
       "    .dataframe thead th {\n",
       "        text-align: right;\n",
       "    }\n",
       "</style>\n",
       "<table border=\"1\" class=\"dataframe\">\n",
       "  <thead>\n",
       "    <tr style=\"text-align: right;\">\n",
       "      <th></th>\n",
       "      <th>id_prod</th>\n",
       "      <th>price</th>\n",
       "      <th>categ</th>\n",
       "      <th>session_id</th>\n",
       "      <th>client_id</th>\n",
       "      <th>sex</th>\n",
       "      <th>birth</th>\n",
       "      <th>date</th>\n",
       "      <th>time</th>\n",
       "    </tr>\n",
       "  </thead>\n",
       "  <tbody>\n",
       "    <tr>\n",
       "      <th>0</th>\n",
       "      <td>0_1421</td>\n",
       "      <td>19.99</td>\n",
       "      <td>0.0</td>\n",
       "      <td>s_168213</td>\n",
       "      <td>c_6389</td>\n",
       "      <td>f</td>\n",
       "      <td>1991</td>\n",
       "      <td>20/02/2022</td>\n",
       "      <td>17:04:37</td>\n",
       "    </tr>\n",
       "    <tr>\n",
       "      <th>1</th>\n",
       "      <td>0_1421</td>\n",
       "      <td>19.99</td>\n",
       "      <td>0.0</td>\n",
       "      <td>s_285450</td>\n",
       "      <td>c_6389</td>\n",
       "      <td>f</td>\n",
       "      <td>1991</td>\n",
       "      <td>20/10/2022</td>\n",
       "      <td>17:04:37</td>\n",
       "    </tr>\n",
       "    <tr>\n",
       "      <th>2</th>\n",
       "      <td>0_2131</td>\n",
       "      <td>8.99</td>\n",
       "      <td>0.0</td>\n",
       "      <td>s_102458</td>\n",
       "      <td>c_6389</td>\n",
       "      <td>f</td>\n",
       "      <td>1991</td>\n",
       "      <td>09/10/2021</td>\n",
       "      <td>21:47:06</td>\n",
       "    </tr>\n",
       "    <tr>\n",
       "      <th>3</th>\n",
       "      <td>0_1635</td>\n",
       "      <td>16.99</td>\n",
       "      <td>0.0</td>\n",
       "      <td>s_26841</td>\n",
       "      <td>c_6389</td>\n",
       "      <td>f</td>\n",
       "      <td>1991</td>\n",
       "      <td>28/04/2021</td>\n",
       "      <td>06:08:38</td>\n",
       "    </tr>\n",
       "    <tr>\n",
       "      <th>4</th>\n",
       "      <td>0_166</td>\n",
       "      <td>1.83</td>\n",
       "      <td>0.0</td>\n",
       "      <td>s_62585</td>\n",
       "      <td>c_6389</td>\n",
       "      <td>f</td>\n",
       "      <td>1991</td>\n",
       "      <td>15/07/2021</td>\n",
       "      <td>10:35:31</td>\n",
       "    </tr>\n",
       "  </tbody>\n",
       "</table>\n",
       "</div>"
      ],
      "text/plain": [
       "  id_prod  price  categ session_id client_id sex  birth        date      time\n",
       "0  0_1421  19.99    0.0   s_168213    c_6389   f   1991  20/02/2022  17:04:37\n",
       "1  0_1421  19.99    0.0   s_285450    c_6389   f   1991  20/10/2022  17:04:37\n",
       "2  0_2131   8.99    0.0   s_102458    c_6389   f   1991  09/10/2021  21:47:06\n",
       "3  0_1635  16.99    0.0    s_26841    c_6389   f   1991  28/04/2021  06:08:38\n",
       "4   0_166   1.83    0.0    s_62585    c_6389   f   1991  15/07/2021  10:35:31"
      ]
     },
     "execution_count": 36,
     "metadata": {},
     "output_type": "execute_result"
    }
   ],
   "source": [
    "complete = pd.read_csv('complete.csv')\n",
    "complete = complete.drop(columns = complete.columns[0], axis=1)\n",
    "complete.head()"
   ]
  },
  {
   "cell_type": "code",
   "execution_count": 37,
   "id": "a289f702",
   "metadata": {},
   "outputs": [
    {
     "data": {
      "text/html": [
       "<div>\n",
       "<style scoped>\n",
       "    .dataframe tbody tr th:only-of-type {\n",
       "        vertical-align: middle;\n",
       "    }\n",
       "\n",
       "    .dataframe tbody tr th {\n",
       "        vertical-align: top;\n",
       "    }\n",
       "\n",
       "    .dataframe thead th {\n",
       "        text-align: right;\n",
       "    }\n",
       "</style>\n",
       "<table border=\"1\" class=\"dataframe\">\n",
       "  <thead>\n",
       "    <tr style=\"text-align: right;\">\n",
       "      <th></th>\n",
       "      <th>id_prod</th>\n",
       "      <th>price</th>\n",
       "      <th>categ</th>\n",
       "      <th>session_id</th>\n",
       "      <th>client_id</th>\n",
       "      <th>sex</th>\n",
       "      <th>birth</th>\n",
       "      <th>date</th>\n",
       "      <th>time</th>\n",
       "      <th>age</th>\n",
       "    </tr>\n",
       "  </thead>\n",
       "  <tbody>\n",
       "    <tr>\n",
       "      <th>0</th>\n",
       "      <td>0_1421</td>\n",
       "      <td>19.99</td>\n",
       "      <td>0.0</td>\n",
       "      <td>s_168213</td>\n",
       "      <td>c_6389</td>\n",
       "      <td>f</td>\n",
       "      <td>1991</td>\n",
       "      <td>20/02/2022</td>\n",
       "      <td>17:04:37</td>\n",
       "      <td>32</td>\n",
       "    </tr>\n",
       "    <tr>\n",
       "      <th>1</th>\n",
       "      <td>0_1421</td>\n",
       "      <td>19.99</td>\n",
       "      <td>0.0</td>\n",
       "      <td>s_285450</td>\n",
       "      <td>c_6389</td>\n",
       "      <td>f</td>\n",
       "      <td>1991</td>\n",
       "      <td>20/10/2022</td>\n",
       "      <td>17:04:37</td>\n",
       "      <td>32</td>\n",
       "    </tr>\n",
       "    <tr>\n",
       "      <th>2</th>\n",
       "      <td>0_2131</td>\n",
       "      <td>8.99</td>\n",
       "      <td>0.0</td>\n",
       "      <td>s_102458</td>\n",
       "      <td>c_6389</td>\n",
       "      <td>f</td>\n",
       "      <td>1991</td>\n",
       "      <td>09/10/2021</td>\n",
       "      <td>21:47:06</td>\n",
       "      <td>32</td>\n",
       "    </tr>\n",
       "    <tr>\n",
       "      <th>3</th>\n",
       "      <td>0_1635</td>\n",
       "      <td>16.99</td>\n",
       "      <td>0.0</td>\n",
       "      <td>s_26841</td>\n",
       "      <td>c_6389</td>\n",
       "      <td>f</td>\n",
       "      <td>1991</td>\n",
       "      <td>28/04/2021</td>\n",
       "      <td>06:08:38</td>\n",
       "      <td>32</td>\n",
       "    </tr>\n",
       "    <tr>\n",
       "      <th>4</th>\n",
       "      <td>0_166</td>\n",
       "      <td>1.83</td>\n",
       "      <td>0.0</td>\n",
       "      <td>s_62585</td>\n",
       "      <td>c_6389</td>\n",
       "      <td>f</td>\n",
       "      <td>1991</td>\n",
       "      <td>15/07/2021</td>\n",
       "      <td>10:35:31</td>\n",
       "      <td>32</td>\n",
       "    </tr>\n",
       "  </tbody>\n",
       "</table>\n",
       "</div>"
      ],
      "text/plain": [
       "  id_prod  price  categ session_id client_id sex  birth        date      time  \\\n",
       "0  0_1421  19.99    0.0   s_168213    c_6389   f   1991  20/02/2022  17:04:37   \n",
       "1  0_1421  19.99    0.0   s_285450    c_6389   f   1991  20/10/2022  17:04:37   \n",
       "2  0_2131   8.99    0.0   s_102458    c_6389   f   1991  09/10/2021  21:47:06   \n",
       "3  0_1635  16.99    0.0    s_26841    c_6389   f   1991  28/04/2021  06:08:38   \n",
       "4   0_166   1.83    0.0    s_62585    c_6389   f   1991  15/07/2021  10:35:31   \n",
       "\n",
       "   age  \n",
       "0   32  \n",
       "1   32  \n",
       "2   32  \n",
       "3   32  \n",
       "4   32  "
      ]
     },
     "execution_count": 37,
     "metadata": {},
     "output_type": "execute_result"
    }
   ],
   "source": [
    "# Nous ajoutons une colonne 'age' pour la suite de nos analyses\n",
    "\n",
    "complete['age'] = complete['birth'].apply(lambda x: (datetime.datetime.now().year - x))\n",
    "complete.head()"
   ]
  },
  {
   "cell_type": "markdown",
   "id": "4783f7f1",
   "metadata": {},
   "source": [
    "**Réponse aux demandes d'analyses d'Antoine et Julie**"
   ]
  },
  {
   "cell_type": "code",
   "execution_count": 38,
   "id": "469a05a9",
   "metadata": {},
   "outputs": [
    {
     "data": {
      "text/html": [
       "<div>\n",
       "<style scoped>\n",
       "    .dataframe tbody tr th:only-of-type {\n",
       "        vertical-align: middle;\n",
       "    }\n",
       "\n",
       "    .dataframe tbody tr th {\n",
       "        vertical-align: top;\n",
       "    }\n",
       "\n",
       "    .dataframe thead th {\n",
       "        text-align: right;\n",
       "    }\n",
       "</style>\n",
       "<table border=\"1\" class=\"dataframe\">\n",
       "  <thead>\n",
       "    <tr style=\"text-align: right;\">\n",
       "      <th></th>\n",
       "      <th>price</th>\n",
       "      <th>n_date</th>\n",
       "      <th>year</th>\n",
       "      <th>month</th>\n",
       "      <th>day</th>\n",
       "    </tr>\n",
       "  </thead>\n",
       "  <tbody>\n",
       "    <tr>\n",
       "      <th>292839</th>\n",
       "      <td>10.70</td>\n",
       "      <td>2021-01-03</td>\n",
       "      <td>2021</td>\n",
       "      <td>1</td>\n",
       "      <td>3</td>\n",
       "    </tr>\n",
       "    <tr>\n",
       "      <th>534633</th>\n",
       "      <td>15.63</td>\n",
       "      <td>2021-01-03</td>\n",
       "      <td>2021</td>\n",
       "      <td>1</td>\n",
       "      <td>3</td>\n",
       "    </tr>\n",
       "    <tr>\n",
       "      <th>195380</th>\n",
       "      <td>24.67</td>\n",
       "      <td>2021-01-03</td>\n",
       "      <td>2021</td>\n",
       "      <td>1</td>\n",
       "      <td>3</td>\n",
       "    </tr>\n",
       "    <tr>\n",
       "      <th>500140</th>\n",
       "      <td>10.86</td>\n",
       "      <td>2021-01-03</td>\n",
       "      <td>2021</td>\n",
       "      <td>1</td>\n",
       "      <td>3</td>\n",
       "    </tr>\n",
       "    <tr>\n",
       "      <th>303013</th>\n",
       "      <td>8.99</td>\n",
       "      <td>2021-01-03</td>\n",
       "      <td>2021</td>\n",
       "      <td>1</td>\n",
       "      <td>3</td>\n",
       "    </tr>\n",
       "  </tbody>\n",
       "</table>\n",
       "</div>"
      ],
      "text/plain": [
       "        price     n_date  year  month  day\n",
       "292839  10.70 2021-01-03  2021      1    3\n",
       "534633  15.63 2021-01-03  2021      1    3\n",
       "195380  24.67 2021-01-03  2021      1    3\n",
       "500140  10.86 2021-01-03  2021      1    3\n",
       "303013   8.99 2021-01-03  2021      1    3"
      ]
     },
     "execution_count": 38,
     "metadata": {},
     "output_type": "execute_result"
    }
   ],
   "source": [
    "# Nous allons étudier l'évolution du chiffre d'affaires dans le temps\n",
    "\n",
    "info_CA = complete[['price', 'date']]\n",
    "info_CA.loc[:, 'n_date'] = pd.to_datetime(info_CA['date'])\n",
    "info_CA = info_CA.drop(['date'], axis=1)\n",
    "info_CA = info_CA.sort_values(by='n_date', ascending=True)\n",
    "info_CA.loc[:, 'year'] = info_CA['n_date'].dt.year\n",
    "info_CA.loc[:, 'month'] = info_CA['n_date'].dt.month\n",
    "info_CA.loc[:, 'day'] = info_CA['n_date'].dt.day\n",
    "info_CA.head()"
   ]
  },
  {
   "cell_type": "code",
   "execution_count": 39,
   "id": "524c35bf",
   "metadata": {},
   "outputs": [
    {
     "data": {
      "text/html": [
       "<div>\n",
       "<style scoped>\n",
       "    .dataframe tbody tr th:only-of-type {\n",
       "        vertical-align: middle;\n",
       "    }\n",
       "\n",
       "    .dataframe tbody tr th {\n",
       "        vertical-align: top;\n",
       "    }\n",
       "\n",
       "    .dataframe thead th {\n",
       "        text-align: right;\n",
       "    }\n",
       "</style>\n",
       "<table border=\"1\" class=\"dataframe\">\n",
       "  <thead>\n",
       "    <tr style=\"text-align: right;\">\n",
       "      <th></th>\n",
       "      <th></th>\n",
       "      <th>price</th>\n",
       "    </tr>\n",
       "    <tr>\n",
       "      <th>year</th>\n",
       "      <th>month</th>\n",
       "      <th></th>\n",
       "    </tr>\n",
       "  </thead>\n",
       "  <tbody>\n",
       "    <tr>\n",
       "      <th rowspan=\"12\" valign=\"top\">2021</th>\n",
       "      <th>1</th>\n",
       "      <td>163003.22</td>\n",
       "    </tr>\n",
       "    <tr>\n",
       "      <th>2</th>\n",
       "      <td>154934.02</td>\n",
       "    </tr>\n",
       "    <tr>\n",
       "      <th>3</th>\n",
       "      <td>446749.44</td>\n",
       "    </tr>\n",
       "    <tr>\n",
       "      <th>4</th>\n",
       "      <td>436632.78</td>\n",
       "    </tr>\n",
       "    <tr>\n",
       "      <th>5</th>\n",
       "      <td>453890.54</td>\n",
       "    </tr>\n",
       "    <tr>\n",
       "      <th>6</th>\n",
       "      <td>444736.34</td>\n",
       "    </tr>\n",
       "    <tr>\n",
       "      <th>7</th>\n",
       "      <td>448287.03</td>\n",
       "    </tr>\n",
       "    <tr>\n",
       "      <th>8</th>\n",
       "      <td>455643.29</td>\n",
       "    </tr>\n",
       "    <tr>\n",
       "      <th>9</th>\n",
       "      <td>467227.23</td>\n",
       "    </tr>\n",
       "    <tr>\n",
       "      <th>10</th>\n",
       "      <td>353807.87</td>\n",
       "    </tr>\n",
       "    <tr>\n",
       "      <th>11</th>\n",
       "      <td>467694.96</td>\n",
       "    </tr>\n",
       "    <tr>\n",
       "      <th>12</th>\n",
       "      <td>478219.84</td>\n",
       "    </tr>\n",
       "    <tr>\n",
       "      <th rowspan=\"12\" valign=\"top\">2022</th>\n",
       "      <th>1</th>\n",
       "      <td>521048.06</td>\n",
       "    </tr>\n",
       "    <tr>\n",
       "      <th>2</th>\n",
       "      <td>512150.04</td>\n",
       "    </tr>\n",
       "    <tr>\n",
       "      <th>3</th>\n",
       "      <td>510718.30</td>\n",
       "    </tr>\n",
       "    <tr>\n",
       "      <th>4</th>\n",
       "      <td>498000.07</td>\n",
       "    </tr>\n",
       "    <tr>\n",
       "      <th>5</th>\n",
       "      <td>523778.68</td>\n",
       "    </tr>\n",
       "    <tr>\n",
       "      <th>6</th>\n",
       "      <td>503168.44</td>\n",
       "    </tr>\n",
       "    <tr>\n",
       "      <th>7</th>\n",
       "      <td>520424.71</td>\n",
       "    </tr>\n",
       "    <tr>\n",
       "      <th>8</th>\n",
       "      <td>507060.93</td>\n",
       "    </tr>\n",
       "    <tr>\n",
       "      <th>9</th>\n",
       "      <td>494444.12</td>\n",
       "    </tr>\n",
       "    <tr>\n",
       "      <th>10</th>\n",
       "      <td>521790.91</td>\n",
       "    </tr>\n",
       "    <tr>\n",
       "      <th>11</th>\n",
       "      <td>492342.24</td>\n",
       "    </tr>\n",
       "    <tr>\n",
       "      <th>12</th>\n",
       "      <td>503755.31</td>\n",
       "    </tr>\n",
       "    <tr>\n",
       "      <th rowspan=\"12\" valign=\"top\">2023</th>\n",
       "      <th>1</th>\n",
       "      <td>347800.10</td>\n",
       "    </tr>\n",
       "    <tr>\n",
       "      <th>2</th>\n",
       "      <td>298638.08</td>\n",
       "    </tr>\n",
       "    <tr>\n",
       "      <th>3</th>\n",
       "      <td>32956.38</td>\n",
       "    </tr>\n",
       "    <tr>\n",
       "      <th>4</th>\n",
       "      <td>31782.99</td>\n",
       "    </tr>\n",
       "    <tr>\n",
       "      <th>5</th>\n",
       "      <td>32584.27</td>\n",
       "    </tr>\n",
       "    <tr>\n",
       "      <th>6</th>\n",
       "      <td>29375.54</td>\n",
       "    </tr>\n",
       "    <tr>\n",
       "      <th>7</th>\n",
       "      <td>33343.93</td>\n",
       "    </tr>\n",
       "    <tr>\n",
       "      <th>8</th>\n",
       "      <td>34781.95</td>\n",
       "    </tr>\n",
       "    <tr>\n",
       "      <th>9</th>\n",
       "      <td>34499.94</td>\n",
       "    </tr>\n",
       "    <tr>\n",
       "      <th>10</th>\n",
       "      <td>30256.33</td>\n",
       "    </tr>\n",
       "    <tr>\n",
       "      <th>11</th>\n",
       "      <td>33373.06</td>\n",
       "    </tr>\n",
       "    <tr>\n",
       "      <th>12</th>\n",
       "      <td>34827.74</td>\n",
       "    </tr>\n",
       "  </tbody>\n",
       "</table>\n",
       "</div>"
      ],
      "text/plain": [
       "                price\n",
       "year month           \n",
       "2021 1      163003.22\n",
       "     2      154934.02\n",
       "     3      446749.44\n",
       "     4      436632.78\n",
       "     5      453890.54\n",
       "     6      444736.34\n",
       "     7      448287.03\n",
       "     8      455643.29\n",
       "     9      467227.23\n",
       "     10     353807.87\n",
       "     11     467694.96\n",
       "     12     478219.84\n",
       "2022 1      521048.06\n",
       "     2      512150.04\n",
       "     3      510718.30\n",
       "     4      498000.07\n",
       "     5      523778.68\n",
       "     6      503168.44\n",
       "     7      520424.71\n",
       "     8      507060.93\n",
       "     9      494444.12\n",
       "     10     521790.91\n",
       "     11     492342.24\n",
       "     12     503755.31\n",
       "2023 1      347800.10\n",
       "     2      298638.08\n",
       "     3       32956.38\n",
       "     4       31782.99\n",
       "     5       32584.27\n",
       "     6       29375.54\n",
       "     7       33343.93\n",
       "     8       34781.95\n",
       "     9       34499.94\n",
       "     10      30256.33\n",
       "     11      33373.06\n",
       "     12      34827.74"
      ]
     },
     "execution_count": 39,
     "metadata": {},
     "output_type": "execute_result"
    }
   ],
   "source": [
    "# Nous additions les prix par mois pour ensuite grouper ces chiffres par an\n",
    "\n",
    "CA_mois = info_CA.groupby([(info_CA.year), (info_CA.month)]).sum()\n",
    "CA_mois = CA_mois.drop(['day', 'year', 'month'], axis=1)\n",
    "\n",
    "CA_mois.head(36)"
   ]
  },
  {
   "cell_type": "code",
   "execution_count": 40,
   "id": "1decea09",
   "metadata": {},
   "outputs": [
    {
     "data": {
      "image/png": "[encoded data removed]",
      "text/plain": [
       "<Figure size 432x288 with 1 Axes>"
      ]
     },
     "metadata": {
      "needs_background": "light"
     },
     "output_type": "display_data"
    },
    {
     "data": {
      "image/png": "[encoded data removed]",
      "text/plain": [
       "<Figure size 432x288 with 1 Axes>"
      ]
     },
     "metadata": {
      "needs_background": "light"
     },
     "output_type": "display_data"
    },
    {
     "data": {
      "image/png": "[encoded data removed]",
      "text/plain": [
       "<Figure size 432x288 with 1 Axes>"
      ]
     },
     "metadata": {
      "needs_background": "light"
     },
     "output_type": "display_data"
    }
   ],
   "source": [
    "# Nous analysons l'évolution du chiffre d'affaires par année\n",
    "# Ainsi que la moyenne mobile (sur 3 mois)\n",
    "\n",
    "df = CA_mois\n",
    "\n",
    "df_2021 = df.loc[2021]\n",
    "df_2021['Moving Average'] = df_2021['price'].rolling(3).mean()\n",
    "\n",
    "plt.plot(df_2021.index, df_2021['price'])\n",
    "plt.plot(df_2021.index, df_2021['Moving Average'], label='Moving Average', color='red')\n",
    "plt.xlabel('Month')\n",
    "plt.ylabel('Price')\n",
    "plt.title('Price by Month in 2021')\n",
    "plt.legend()\n",
    "plt.ylim(0, max(df_2021['price']))\n",
    "plt.show()\n",
    "\n",
    "df_2022 = df.loc[2022]\n",
    "df_2022['Moving Average'] = df_2022['price'].rolling(3).mean()\n",
    "\n",
    "plt.plot(df_2022.index, df_2022['price'])\n",
    "plt.plot(df_2022.index, df_2022['Moving Average'], label='Moving Average', color='red')\n",
    "plt.xlabel('Month')\n",
    "plt.ylabel('Price')\n",
    "plt.title('Price by Month in 2022')\n",
    "plt.legend()\n",
    "plt.ylim(0, max(df_2022['price']))\n",
    "plt.show()\n",
    "\n",
    "df_2023 = df.loc[2023]\n",
    "df_2023['Moving Average'] = df_2023['price'].rolling(3).mean()\n",
    "\n",
    "plt.plot(df_2023.index, df_2023['price'])\n",
    "plt.plot(df_2023.index, df_2023['Moving Average'], label='Moving Average', color='red')\n",
    "plt.xlabel('Month')\n",
    "plt.ylabel('Price')\n",
    "plt.title('Price by Month in 2023')\n",
    "plt.legend()\n",
    "plt.ylim(0, max(df_2023['price']))\n",
    "plt.show()"
   ]
  },
  {
   "cell_type": "markdown",
   "id": "dde9a3db",
   "metadata": {},
   "source": [
    "L'évolution du chiffre d'affaire pour l'entreprise Lapage est très positive entre le début de l'année 2021 \n",
    "(de 160 000€ à 480 000€) et 2022, année pendant laquelle, ce chiffre d'affaire se stabilise autour\n",
    "des 510 000€ par mois.  \n",
    "Ce chiffre d'affaire marque ensuite une baisse significative pour l'année 2023 qui ne présage rien de bon pour l'entreprise si la tendance se confirme (de 510 000€/mois à 325 000€/mois, baisse de 36%).  \n",
    "A noter, une baisse du CA lors du mois de novembre 2021. N'ayant pas plus de contexte sur cette baisse, on pourrait penser à un bug informatique de la plateforme."
   ]
  },
  {
   "cell_type": "code",
   "execution_count": 41,
   "id": "a2625716",
   "metadata": {},
   "outputs": [
    {
     "data": {
      "image/png": "[encoded data removed]",
      "text/plain": [
       "<Figure size 432x288 with 1 Axes>"
      ]
     },
     "metadata": {
      "needs_background": "light"
     },
     "output_type": "display_data"
    }
   ],
   "source": [
    "# Mettons en avant les 5 meilleures ventes de la librairie Lapage\n",
    "\n",
    "sales_data = complete.groupby('id_prod')['price'].sum()\n",
    "\n",
    "best_selling = sales_data.sort_values(ascending=False)\n",
    "top_5_best_selling = best_selling.head()\n",
    "top_5_best_selling.plot(kind='bar')\n",
    "\n",
    "plt.title('Top 5 meilleures ventes')\n",
    "plt.xlabel('ID Livre')\n",
    "plt.ylabel('Revenu total')\n",
    "\n",
    "plt.show()"
   ]
  },
  {
   "cell_type": "code",
   "execution_count": 42,
   "id": "2e6dfb43",
   "metadata": {},
   "outputs": [
    {
     "data": {
      "image/png": "[encoded data removed]",
      "text/plain": [
       "<Figure size 432x288 with 1 Axes>"
      ]
     },
     "metadata": {
      "needs_background": "light"
     },
     "output_type": "display_data"
    }
   ],
   "source": [
    "# Mettons en avant les 5 pires ventes de la librairie Lapage\n",
    "\n",
    "worst_selling = sales_data.sort_values(ascending=True)\n",
    "top_5_worst_selling = worst_selling.head()\n",
    "top_5_worst_selling.plot(kind='bar')\n",
    "\n",
    "plt.title('Top 5 moins bonnes ventes')\n",
    "plt.xlabel('ID Livre')\n",
    "plt.ylabel('Revenu total')\n",
    "\n",
    "plt.show()"
   ]
  },
  {
   "cell_type": "markdown",
   "id": "c1b768b8",
   "metadata": {},
   "source": [
    "Nous pouvons proposer à l'entreprise de mettre en avant leurs best-sellers afin de maximiser leur CA.  \n",
    "Il ne serait pas pertinent de retirer entièrement de son site internet les livres les moins vendus\n",
    "étant donné qu'il s'agit d'une \"bibliothèque\" en ligne et qu'il faut pouvoir satisfaire le maximum de clients possibles.  \n",
    "Mais il serait pertinent d'avoir de plus faible stock de ces livres moins populaires et de grossir le stock des plus populaires afin de mieux répondre à la demande."
   ]
  },
  {
   "cell_type": "code",
   "execution_count": 43,
   "id": "89577879",
   "metadata": {},
   "outputs": [
    {
     "data": {
      "image/png": "[encoded data removed]",
      "text/plain": [
       "<Figure size 432x288 with 1 Axes>"
      ]
     },
     "metadata": {},
     "output_type": "display_data"
    }
   ],
   "source": [
    "# Nous regardons ici la répartition par catégorie en fonction du revenu total généré\n",
    "\n",
    "category_data = complete.groupby('categ')['price'].sum()\n",
    "category_data.plot(kind='pie',autopct='%1.1f%%')\n",
    "plt.title('Répartition des catégories par revenu total')\n",
    "\n",
    "plt.ylabel('Revenu total')\n",
    "plt.show()"
   ]
  },
  {
   "cell_type": "code",
   "execution_count": 44,
   "id": "2f10c507",
   "metadata": {},
   "outputs": [
    {
     "data": {
      "text/plain": [
       "Text(0, 0.5, 'Revenu total')"
      ]
     },
     "execution_count": 44,
     "metadata": {},
     "output_type": "execute_result"
    },
    {
     "data": {
      "image/png": "[encoded data removed]",
      "text/plain": [
       "<Figure size 432x288 with 1 Axes>"
      ]
     },
     "metadata": {
      "needs_background": "light"
     },
     "output_type": "display_data"
    }
   ],
   "source": [
    "# Nous regardons ici la répartition des ventes totales par sexe et catégorie\n",
    "\n",
    "pivot_table = pd.pivot_table(complete, values='price', index=['categ'], columns=['sex'], aggfunc=np.sum)\n",
    "\n",
    "pivot_table.plot(kind='bar')\n",
    "plt.xlabel(\"Categorie\")\n",
    "plt.ylabel(\"Revenu total\")"
   ]
  },
  {
   "cell_type": "markdown",
   "id": "702d8725",
   "metadata": {},
   "source": [
    "La catégorie 2.0 est la catégorie qui a ramené le moins de revenu. Il serait intéressant que cette catégorie soit mise en avant afin qu'elle génère autant de revenus que les deux autres catégories et donc qu'elle booste le CA global de l'entreprise.  \n",
    "Nous ne remarquons pas de disparité particulière entre le CA généré par les achats de livres faits par femmes ou des hommes."
   ]
  },
  {
   "cell_type": "code",
   "execution_count": 45,
   "id": "2b66f783",
   "metadata": {},
   "outputs": [
    {
     "data": {
      "image/png": "[encoded data removed]",
      "text/plain": [
       "<Figure size 432x288 with 1 Axes>"
      ]
     },
     "metadata": {
      "needs_background": "light"
     },
     "output_type": "display_data"
    }
   ],
   "source": [
    "# Nous allons regarder la répartition du revenu total par tranche d'âge \n",
    "# présenter l'information avec une pyramide des ages par sexe\n",
    "\n",
    "complete['age_group'] = pd.cut(complete['age'], bins = [0,5,10,15,20,25,30,35,40,45,50,55,60,65,70,75,80,85,90,95,100], labels = ['0-5','5-10','10-15','15-20','20-25','25-30','30-35','35-40','40-45','45-50','50-55','55-60','60-65','65-70','70-75','75-80','80-85','85-90','90-95','95-100'])\n",
    "age_group_sales = complete.groupby('age_group')['price'].sum()\n",
    "age_group_sales.plot(kind='bar')\n",
    "plt.title('Revenu total par tranche d âge')\n",
    "plt.xlabel('Tranche d âge')\n",
    "plt.ylabel('Revenu total')\n",
    "plt.show()"
   ]
  },
  {
   "cell_type": "code",
   "execution_count": 46,
   "id": "f46e81c8",
   "metadata": {},
   "outputs": [
    {
     "data": {
      "image/png": "[encoded data removed]",
      "text/plain": [
       "<Figure size 432x288 with 1 Axes>"
      ]
     },
     "metadata": {
      "needs_background": "light"
     },
     "output_type": "display_data"
    }
   ],
   "source": [
    "# Nous analysons les dépenses des clients\n",
    "# Le panier moyen par tranche d'âge\n",
    "\n",
    "df = complete\n",
    "\n",
    "age_group = df.groupby(pd.cut(df[\"age\"], range(15, 80, 5)))\n",
    "\n",
    "average_basket = age_group[\"price\"].mean()\n",
    "\n",
    "average_basket.plot(kind=\"bar\")\n",
    "plt.xlabel(\"Tranche d'âge\")\n",
    "plt.ylabel(\"Panier moyen\")\n",
    "plt.title(\"Panier moyen par tranche d'âge\")\n",
    "plt.show()"
   ]
  },
  {
   "cell_type": "markdown",
   "id": "ff64f7c2",
   "metadata": {},
   "source": [
    "Nous remarquons que les 40-45 ans sont les clients ayant générés le plus de chiffres d'affaires en ayant un des paniers moyens les plus faibles.  \n",
    "On peut en conclure que ce sont nos clients les plus fidèles et les plus réguliers. \n",
    "L'accès aux technologies et à internet n'étant pas évident pour les personnes agées, ces catégories d'age seront difficiles à convaincre d'acheter."
   ]
  },
  {
   "cell_type": "code",
   "execution_count": 47,
   "id": "d183005d",
   "metadata": {},
   "outputs": [
    {
     "name": "stdout",
     "output_type": "stream",
     "text": [
      "                       frequency_of_purchase     birth\n",
      "frequency_of_purchase               1.000000 -0.006721\n",
      "birth                              -0.006721  1.000000\n"
     ]
    }
   ],
   "source": [
    "# Nous allons regarder des indices de corrélations entre différents critères\n",
    "# La fréquence d'achat et l'age des clients\n",
    "\n",
    "df = complete\n",
    "\n",
    "df['date'] = pd.to_datetime(df['date'])\n",
    "df_grouped = df.groupby('client_id').agg({'id_prod': 'count', 'birth': 'first'})\n",
    "df_grouped = df_grouped.rename(columns={'id_prod': 'frequency_of_purchase'})\n",
    "\n",
    "corr = df_grouped.corr()\n",
    "print(corr)"
   ]
  },
  {
   "cell_type": "markdown",
   "id": "2d5cf80a",
   "metadata": {},
   "source": [
    "L'indice de corrélation mesure la force et la direction de la relation entre deux variables. Dans ce cas, la corrélation entre fréquence d'achat et âge/année de naissance est très faible.  \n",
    "Le coefficient de corrélation de -0,006721 entre la fréquence d'achat et l'année de naissance indique qu'il existe une très faible corrélation négative entre les deux variables. Cela signifie qu'à mesure que l'année de naissance augmente, la fréquence d'achat diminue légèrement mais pas de manière significative."
   ]
  },
  {
   "cell_type": "code",
   "execution_count": 48,
   "id": "4db7c317",
   "metadata": {},
   "outputs": [
    {
     "name": "stdout",
     "output_type": "stream",
     "text": [
      "L'indice de corrélation entre l'age et le montant total des achats est :  -0.05003128012838218\n"
     ]
    }
   ],
   "source": [
    "# L'age et le montant total des achats \n",
    "\n",
    "df = complete\n",
    "\n",
    "total_purchases = df.groupby('client_id')['price'].sum()\n",
    "merged_df = pd.merge(df, total_purchases, on='client_id', suffixes=('_indiv', '_total'))\n",
    "corr_age_total = merged_df['age'].corr(merged_df['price_total'])\n",
    "\n",
    "print(\"L'indice de corrélation entre l'age et le montant total des achats est : \", corr_age_total)"
   ]
  },
  {
   "cell_type": "markdown",
   "id": "a2f3e9bc",
   "metadata": {},
   "source": [
    "Le résultat de -0,05 indique une très faible corrélation négative entre l'âge et le total des achats effectués.  \n",
    "Cela signifie qu'à mesure que l'âge augmente, le montant total des achats diminue légèrement, mais la relation n'est pas très forte.  \n",
    "  \n",
    "Il est important de noter que la corrélation n'implique pas la causalité. Une corrélation négative ne signifie pas nécessairement qu'à mesure qu'une personne vieillit, elle dépense moins d'argent, ni qu'une variable fait changer l'autre. La corrélation indique simplement qu'il existe une relation entre les deux variables."
   ]
  },
  {
   "cell_type": "code",
   "execution_count": 49,
   "id": "b6305628",
   "metadata": {},
   "outputs": [
    {
     "name": "stdout",
     "output_type": "stream",
     "text": [
      "L'indice de corrélation entre l'age et les catégories de livres est :  -0.09924065023589002\n"
     ]
    }
   ],
   "source": [
    "# L'age et la catégorie\n",
    "\n",
    "df = complete\n",
    "\n",
    "correlation = df['age'].corr(df['categ'])\n",
    "\n",
    "print(\"L'indice de corrélation entre l'age et les catégories de livres est : \", correlation)"
   ]
  },
  {
   "cell_type": "markdown",
   "id": "6aee2a47",
   "metadata": {},
   "source": [
    "L'indice de corrélation entre l'âge et les catégories de livres de -0,09 suggère une faible corrélation négative entre ces deux variables. Cela signifie qu'à mesure que l'âge augmente, le client a une légère tendance à acheter des livres d'une autre catégorie.  \n",
    "Cependant, la corrélation est faible, ce qui indique que l'âge n'est pas un facteur significatif pour déterminer si un client achètera le livre d'autre catégorie."
   ]
  },
  {
   "cell_type": "markdown",
   "id": "680d6d03",
   "metadata": {},
   "source": [
    "## Tests Statistiques"
   ]
  },
  {
   "cell_type": "code",
   "execution_count": 50,
   "id": "51db374b",
   "metadata": {},
   "outputs": [
    {
     "name": "stdout",
     "output_type": "stream",
     "text": [
      "categ   0.0   1.0   2.0\n",
      "age                    \n",
      "19     3418  5719  6012\n",
      "20      909  1678  1784\n",
      "21     1016  1723  1845\n",
      "22      974  1550  1728\n",
      "23     1114  1628  1671\n",
      "..      ...   ...   ...\n",
      "90      142   183     1\n",
      "91      132   177     2\n",
      "92       77    91     2\n",
      "93       75   149     2\n",
      "94       78   122     1\n",
      "\n",
      "[76 rows x 3 columns]\n",
      "Test du chi2:\n",
      "Chi2 = 307533.0346578574\n",
      "p-value = 0.0\n",
      "Degrés de liberté = 150\n",
      "Coefficient de corrélation de Pearson:\n",
      "Corrélation = -0.20946478110175767\n",
      "p-value = 0.0\n"
     ]
    }
   ],
   "source": [
    "df = complete\n",
    "\n",
    "# Table de contingence pour le test du chi2\n",
    "table = pd.crosstab(df['age'], df['categ'])\n",
    "print(table)\n",
    "\n",
    "# Test du chi2\n",
    "chi2, pval, dof, expected = chi2_contingency(table)\n",
    "print(\"Test du chi2:\")\n",
    "print(\"Chi2 =\", chi2)\n",
    "print(\"p-value =\", pval)\n",
    "print(\"Degrés de liberté =\", dof)\n",
    "\n",
    "# Coefficient de corrélation de Pearson\n",
    "corr, pval = pearsonr(df['age'], df['price'])\n",
    "print(\"Coefficient de corrélation de Pearson:\")\n",
    "print(\"Corrélation =\", corr)\n",
    "print(\"p-value =\", pval)\n"
   ]
  },
  {
   "cell_type": "markdown",
   "id": "05c99553",
   "metadata": {},
   "source": [
    "Le résultat du test indique que la probabilité d'obtenir un chi2 aussi élevé ou plus élevé que celui observé dans l'échantillon par hasard est très faible (p-value = 0.0). On peut donc en conclure qu'il y a une relation significative entre l'âge et la catégorie de produits achetés."
   ]
  },
  {
   "cell_type": "markdown",
   "id": "0cc7d1b1",
   "metadata": {},
   "source": [
    "Le coefficient de corrélation de Pearson mesure la relation linéaire entre deux variables. Dans ce cas, le résultat indique qu'il y a une corrélation négative modérée entre les variables étudiées, avec une valeur de corrélation de -0,209. Cela signifie que lorsque l'âge augmente, la fréquence d'achat des différentes catégories de produits diminue légèrement.\n",
    "\n",
    "La p-value de 0.0 indique que cette corrélation est statistiquement significative, c'est-à-dire qu'il y a une forte probabilité que cette corrélation ne soit pas due au hasard mais reflète une véritable association entre les variables."
   ]
  },
  {
   "cell_type": "code",
   "execution_count": 52,
   "id": "dc0d6555",
   "metadata": {},
   "outputs": [
    {
     "name": "stdout",
     "output_type": "stream",
     "text": [
      "montant_total  (0, 50]  (50, 100]  (100, 150]  (150, 200]  (200, 250]  \\\n",
      "age                                                                     \n",
      "(15, 20]            13         42          27          83         108   \n",
      "(20, 25]            16         53          51          71          82   \n",
      "(25, 30]             5          7          90         122         127   \n",
      "(30, 35]             7          9          92         113         180   \n",
      "(35, 40]             0         47          96         158         209   \n",
      "(40, 45]             0         17          63         163         249   \n",
      "(45, 50]            10         34          47         156         387   \n",
      "(50, 55]            16         97         153         297         450   \n",
      "(55, 60]            10         85         147         281         308   \n",
      "(60, 65]            18         49         118         234         195   \n",
      "(65, 70]             8         53         128         167         187   \n",
      "(70, 75]             4         37          94          95         191   \n",
      "(75, 80]             0         17          20          51         102   \n",
      "(80, 85]             8          4          39          23          59   \n",
      "(85, 90]             2          5          12          15          52   \n",
      "(90, 95]             4          6           0           0           0   \n",
      "\n",
      "montant_total  (250, 300]  (300, 350]  (350, 400]  (400, 450]  (450, 500]  \n",
      "age                                                                        \n",
      "(15, 20]              135         121         109         171         194  \n",
      "(20, 25]              151         187         254         200         310  \n",
      "(25, 30]              211         250         240         274         217  \n",
      "(30, 35]              369         331         506         567         562  \n",
      "(35, 40]              297         281         432         667         801  \n",
      "(40, 45]              290         555         734         889         677  \n",
      "(45, 50]              289         375         507         745         793  \n",
      "(50, 55]              494         528         732         730         558  \n",
      "(55, 60]              424         532         594         652         782  \n",
      "(60, 65]              431         425         433         653         561  \n",
      "(65, 70]              543         392         497         564         647  \n",
      "(70, 75]              253         270         245         325         369  \n",
      "(75, 80]              219         167         193         140         273  \n",
      "(80, 85]               45         117         158         139         187  \n",
      "(85, 90]               14         178           0          29         134  \n",
      "(90, 95]                0          19           0          23          48  \n",
      "Test du chi2:\n",
      "Chi2 = 2115.801938276998\n",
      "p-value = 0.0\n",
      "Degrés de liberté = 135\n",
      "Coefficient de corrélation de Pearson:\n",
      "Corrélation = -0.05003128012841892\n",
      "p-value = 0.0\n"
     ]
    }
   ],
   "source": [
    "df = complete\n",
    "\n",
    "# conversion de la colonne 'date' en datetime\n",
    "df['date'] = pd.to_datetime(df['date'], format='%d/%m/%Y')\n",
    "\n",
    "# calcul de la colonne 'montant'\n",
    "df['montant'] = df['price']\n",
    "\n",
    "# regroupement par client_id pour calculer le montant total des achats\n",
    "df_grouped = df.groupby('client_id')['montant'].sum().reset_index()\n",
    "\n",
    "# fusion du dataframe original et du dataframe groupé pour avoir l'âge de chaque client\n",
    "df_merged = pd.merge(df, df_grouped, on='client_id', suffixes=('', '_total'))\n",
    "\n",
    "# test de chi2 pour l'âge et le montant total des achats\n",
    "observed = pd.crosstab(pd.cut(df_merged['age'], bins=[0, 5, 10, 15, 20, 25, 30, 35, 40, 45, 50, 55, 60, 65, 70, 75, 80, 85, 90, 95, 100]), pd.cut(df_merged['montant_total'], bins=[0, 50, 100, 150, 200, 250, 300, 350, 400, 450, 500]))\n",
    "chi2, p, dof, expected = scipy.stats.chi2_contingency(observed)\n",
    "\n",
    "# coefficient de corrélation de Pearson entre l'âge et le montant total des achats\n",
    "corr, pval = scipy.stats.pearsonr(df_merged['age'], df_merged['montant_total'])\n",
    "\n",
    "print(observed)\n",
    "print('Test du chi2:')\n",
    "print('Chi2 =', chi2)\n",
    "print('p-value =', p)\n",
    "print('Degrés de liberté =', dof)\n",
    "\n",
    "print('Coefficient de corrélation de Pearson:')\n",
    "print('Corrélation =', corr)\n",
    "print('p-value =', pval)\n"
   ]
  },
  {
   "cell_type": "markdown",
   "id": "69dea613",
   "metadata": {},
   "source": [
    "Le test du Chi2 a une p-value de 0.198, ce qui est supérieur à un seuil de significativité de 0.05. Cela indique que nous ne pouvons pas rejeter l'hypothèse nulle selon laquelle il n'y a pas de relation significative entre l'âge des clients et le montant total des achats. En d'autres termes, il n'y a pas suffisamment de preuves pour dire que l'âge des clients est lié au montant total de leurs achats."
   ]
  },
  {
   "cell_type": "markdown",
   "id": "50366c56",
   "metadata": {},
   "source": [
    "Le coefficient de corrélation de Pearson mesure la force de la relation linéaire entre deux variables. Dans ce cas, la corrélation entre l'âge des clients et le montant total de leurs achats est de -0.04, ce qui indique une faible corrélation négative. Cela signifie que plus l'âge des clients augmente, moins ils ont tendance à dépenser. La p-value de 0.0002 suggère que cette corrélation est statistiquement significative, ce qui signifie que nous pouvons rejeter l'hypothèse nulle selon laquelle il n'y a pas de corrélation entre l'âge et le montant total des achats."
   ]
  },
  {
   "cell_type": "code",
   "execution_count": 53,
   "id": "092b4059",
   "metadata": {},
   "outputs": [
    {
     "name": "stdout",
     "output_type": "stream",
     "text": [
      "montant_total  (0, 50]\n",
      "age                   \n",
      "(15, 20]           582\n",
      "(20, 25]           702\n",
      "(25, 30]           797\n",
      "(30, 35]           834\n",
      "(35, 40]           811\n",
      "(40, 45]           961\n",
      "(45, 50]           805\n",
      "(50, 55]           787\n",
      "(55, 60]           663\n",
      "(60, 65]           493\n",
      "(65, 70]           516\n",
      "(70, 75]           280\n",
      "(75, 80]           156\n",
      "(80, 85]           138\n",
      "(85, 90]            58\n",
      "(90, 95]            17\n",
      "Test du chi2:\n",
      "Chi2 = 0.0\n",
      "p-value = 1.0\n",
      "Degrés de liberté = 0\n",
      "\n",
      "Coefficient de corrélation de Pearson:\n",
      "Corrélation = -0.03990017789499486\n",
      "p-value = 0.0002146446893419962\n"
     ]
    }
   ],
   "source": [
    "df = complete\n",
    "\n",
    "# créer une nouvelle colonne pour le montant total des achats\n",
    "df['montant_total'] = df['price']\n",
    "\n",
    "# grouper les données par client_id pour obtenir le montant total des achats par client\n",
    "df_grouped = df.groupby('client_id').agg({'montant_total': 'sum', 'age': 'first'})\n",
    "\n",
    "# test de chi2 pour l'âge et le panier moyen des clients\n",
    "observed = pd.crosstab(pd.cut(df_grouped['age'], bins=[0, 5, 10, 15, 20, 25, 30, 35, 40, 45, 50, 55, 60, 65, 70, 75, 80, 85, 90, 95, 100]), pd.cut(df_grouped['montant_total']/df_grouped.index.nunique(), bins=[0, 50, 100, 150, 200, 250, 300, 350, 400, 450, 500]))\n",
    "chi2, p, dof, expected = scipy.stats.chi2_contingency(observed)\n",
    "\n",
    "# coefficient de corrélation de Pearson entre l'âge et le panier moyen des clients\n",
    "corr, pval = scipy.stats.pearsonr(df_grouped['age'], df_grouped['montant_total']/df_grouped.index.nunique())\n",
    "\n",
    "# afficher les résultats\n",
    "print(observed)\n",
    "\n",
    "print(f\"Test du chi2:\\nChi2 = {chi2}\\np-value = {p}\\nDegrés de liberté = {dof}\\n\\nCoefficient de corrélation de Pearson:\\nCorrélation = {corr}\\np-value = {pval}\")\n"
   ]
  },
  {
   "cell_type": "markdown",
   "id": "cc42a0d3",
   "metadata": {},
   "source": [
    "Le test de Chi2 pour l'âge et le panier moyen des clients indique que ces deux variables ne sont pas liées, car la p-value est très élevée (1.0), ce qui signifie que la distribution des fréquences observées est très proche de la distribution attendue (si les variables étaient indépendantes).\n",
    "\n",
    "Le coefficient de corrélation de Pearson entre l'âge et le panier moyen des clients indique une faible corrélation négative entre ces deux variables, car le coefficient est proche de zéro (-0.04). Cela signifie qu'il y a une légère tendance à ce que les clients plus âgés aient des paniers moyens légèrement plus bas, mais que cette relation est très faible. La p-value est inférieure à 0.05, ce qui suggère que cette corrélation est statistiquement significative, mais la force de la corrélation est faible."
   ]
  },
  {
   "cell_type": "markdown",
   "id": "bf3542fa",
   "metadata": {},
   "source": [
    "## Conclusion "
   ]
  },
  {
   "cell_type": "markdown",
   "id": "00b9c35d",
   "metadata": {},
   "source": [
    "L'objectif pour Lapage serait de redresser le chiffre d'affaires pour l'année 2023 afin de retrouver les chiffres de 2022.\n",
    "Pour se faire, il existe plusieurs pistes à explorer : \n",
    "- fidéliser les plus jeunes (15-30 ans) pour qu'ils achètent toujours autant mais plus souvent dans l'année\n",
    "- augmenter le panier moyen des acheteurs les plus récurents (40-45 ans) \n",
    "- promouvoir les best-sellers\n",
    "- tenter de séduire une clientèle plus agée "
   ]
  },
  {
   "cell_type": "code",
   "execution_count": null,
   "id": "aaa08abe",
   "metadata": {},
   "outputs": [],
   "source": []
  }
 ],
 "metadata": {
  "kernelspec": {
   "display_name": "Python 3 (ipykernel)",
   "language": "python",
   "name": "python3"
  },
  "language_info": {
   "codemirror_mode": {
    "name": "ipython",
    "version": 3
   },
   "file_extension": ".py",
   "mimetype": "text/x-python",
   "name": "python",
   "nbconvert_exporter": "python",
   "pygments_lexer": "ipython3",
   "version": "3.8.10"
  }
 },
 "nbformat": 4,
 "nbformat_minor": 5
}
