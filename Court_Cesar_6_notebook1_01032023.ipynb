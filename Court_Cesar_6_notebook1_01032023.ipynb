{
 "cells": [
  {
   "cell_type": "markdown",
   "id": "63171969",
   "metadata": {},
   "source": [
    "## Projet 6 - Analysez les ventes d'une librairie avec R ou Python"
   ]
  },
  {
   "cell_type": "code",
   "execution_count": 1,
   "id": "99ec89e4",
   "metadata": {},
   "outputs": [],
   "source": [
    "%matplotlib inline\n",
    "import numpy as np\n",
    "import pandas as pd\n",
    "import matplotlib.pyplot as plt\n",
    "import seaborn as sns\n",
    "from math import exp, sqrt, pi\n",
    "from IPython.display import display"
   ]
  },
  {
   "cell_type": "markdown",
   "id": "7fd3f926",
   "metadata": {},
   "source": [
    "## Partie 1 : Nettoyage et vérification des Dataframes"
   ]
  },
  {
   "cell_type": "code",
   "execution_count": 2,
   "id": "0a23a96e",
   "metadata": {},
   "outputs": [
    {
     "data": {
      "text/plain": [
       "(8623, 3)"
      ]
     },
     "execution_count": 2,
     "metadata": {},
     "output_type": "execute_result"
    }
   ],
   "source": [
    "customer = pd.read_csv(\"customers.csv\")\n",
    "customer.shape"
   ]
  },
  {
   "cell_type": "code",
   "execution_count": 3,
   "id": "ed79dffb",
   "metadata": {},
   "outputs": [
    {
     "data": {
      "text/plain": [
       "(3287, 3)"
      ]
     },
     "execution_count": 3,
     "metadata": {},
     "output_type": "execute_result"
    }
   ],
   "source": [
    "product = pd.read_csv(\"products.csv\")\n",
    "product.shape"
   ]
  },
  {
   "cell_type": "code",
   "execution_count": 4,
   "id": "c5e14bdc",
   "metadata": {},
   "outputs": [
    {
     "data": {
      "text/plain": [
       "(679532, 4)"
      ]
     },
     "execution_count": 4,
     "metadata": {},
     "output_type": "execute_result"
    }
   ],
   "source": [
    "transaction = pd.read_csv(\"transactions.csv\")\n",
    "transaction.shape"
   ]
  },
  {
   "cell_type": "markdown",
   "id": "69114c2a",
   "metadata": {},
   "source": [
    "**On vérifie l'unicité des clés 'client_id' et 'id_prod' dans les dataframes respectifs customer et product**"
   ]
  },
  {
   "cell_type": "code",
   "execution_count": 5,
   "id": "b5089132",
   "metadata": {},
   "outputs": [],
   "source": [
    "def get_df_name(df):\n",
    "    name =[x for x in globals() if globals()[x] is df][0]\n",
    "    return name\n",
    "\n",
    "def testUnicity(df, column):\n",
    "    if pd.Series(df[column]).is_unique:\n",
    "        print(\"Only Unique Values in the column : \"+column+\" from \"+get_df_name(df))\n",
    "    else: \n",
    "        print(\"No Unique Values in the column : \"+column+\" from \"+get_df_name(df))\n",
    "    print(\"Dataframe shape : \"+str(df.shape)+\" (Rows, Columns)\")"
   ]
  },
  {
   "cell_type": "code",
   "execution_count": 6,
   "id": "978270f2",
   "metadata": {},
   "outputs": [
    {
     "name": "stdout",
     "output_type": "stream",
     "text": [
      "Only Unique Values in the column : client_id from customer\n",
      "Dataframe shape : (8623, 3) (Rows, Columns)\n",
      "Only Unique Values in the column : id_prod from product\n",
      "Dataframe shape : (3287, 3) (Rows, Columns)\n"
     ]
    }
   ],
   "source": [
    "testUnicity(customer, 'client_id')\n",
    "testUnicity(product, 'id_prod')"
   ]
  },
  {
   "cell_type": "code",
   "execution_count": 7,
   "id": "ced75bd9",
   "metadata": {},
   "outputs": [
    {
     "name": "stdout",
     "output_type": "stream",
     "text": [
      "customer\n",
      "AVANT:  (8623, 3)\n",
      "APRES:  (8623, 3)\n",
      "\n",
      "\n",
      "product\n",
      "AVANT:  (3287, 3)\n",
      "APRES:  (3287, 3)\n",
      "\n",
      "\n",
      "transaction\n",
      "AVANT:  (679532, 4)\n",
      "APRES:  (679532, 4)\n",
      "\n",
      "\n"
     ]
    }
   ],
   "source": [
    "# Nous nettoyons les 3 dataframes des valeurs NULL\n",
    "\n",
    "def my_drop_na() :\n",
    "    table_df = [customer, product, transaction]\n",
    "    for x in table_df:\n",
    "        print(get_df_name(x))\n",
    "        print(\"AVANT: \", x.shape)\n",
    "        x = x.dropna()\n",
    "        print(\"APRES: \", x.shape)\n",
    "        print(\"\\n\")\n",
    "\n",
    "my_drop_na()"
   ]
  },
  {
   "cell_type": "markdown",
   "id": "b967aa33",
   "metadata": {},
   "source": [
    "**On vérifie les valeurs aberrantes possibles dans chaque dataframe**"
   ]
  },
  {
   "cell_type": "code",
   "execution_count": 8,
   "id": "f2e333c0",
   "metadata": {},
   "outputs": [
    {
     "data": {
      "text/plain": [
       "<matplotlib.axes._subplots.AxesSubplot at 0x7fc7b0bb0640>"
      ]
     },
     "execution_count": 8,
     "metadata": {},
     "output_type": "execute_result"
    },
    {
     "data": {
      "image/png": "[encoded data removed]",
      "text/plain": [
       "<Figure size 432x288 with 1 Axes>"
      ]
     },
     "metadata": {
      "needs_background": "light"
     },
     "output_type": "display_data"
    }
   ],
   "source": [
    "# Dans le dataframe 'product', on regarde s'il n'existe pas de valeurs aberrantes au niveau du prix\n",
    "# (ex: valeurs négatives)\n",
    "\n",
    "sns.histplot(product['price'])"
   ]
  },
  {
   "cell_type": "code",
   "execution_count": 9,
   "id": "a1e491ba",
   "metadata": {},
   "outputs": [
    {
     "data": {
      "text/html": [
       "<div>\n",
       "<style scoped>\n",
       "    .dataframe tbody tr th:only-of-type {\n",
       "        vertical-align: middle;\n",
       "    }\n",
       "\n",
       "    .dataframe tbody tr th {\n",
       "        vertical-align: top;\n",
       "    }\n",
       "\n",
       "    .dataframe thead th {\n",
       "        text-align: right;\n",
       "    }\n",
       "</style>\n",
       "<table border=\"1\" class=\"dataframe\">\n",
       "  <thead>\n",
       "    <tr style=\"text-align: right;\">\n",
       "      <th></th>\n",
       "      <th>id_prod</th>\n",
       "      <th>price</th>\n",
       "      <th>categ</th>\n",
       "    </tr>\n",
       "  </thead>\n",
       "  <tbody>\n",
       "    <tr>\n",
       "      <th>731</th>\n",
       "      <td>T_0</td>\n",
       "      <td>-1.0</td>\n",
       "      <td>0</td>\n",
       "    </tr>\n",
       "  </tbody>\n",
       "</table>\n",
       "</div>"
      ],
      "text/plain": [
       "    id_prod  price  categ\n",
       "731     T_0   -1.0      0"
      ]
     },
     "execution_count": 9,
     "metadata": {},
     "output_type": "execute_result"
    }
   ],
   "source": [
    "product_temp = product[product['price'] <= 0]\n",
    "product_temp.head()"
   ]
  },
  {
   "cell_type": "code",
   "execution_count": 10,
   "id": "82fb7ddb",
   "metadata": {},
   "outputs": [
    {
     "data": {
      "text/html": [
       "<div>\n",
       "<style scoped>\n",
       "    .dataframe tbody tr th:only-of-type {\n",
       "        vertical-align: middle;\n",
       "    }\n",
       "\n",
       "    .dataframe tbody tr th {\n",
       "        vertical-align: top;\n",
       "    }\n",
       "\n",
       "    .dataframe thead th {\n",
       "        text-align: right;\n",
       "    }\n",
       "</style>\n",
       "<table border=\"1\" class=\"dataframe\">\n",
       "  <thead>\n",
       "    <tr style=\"text-align: right;\">\n",
       "      <th></th>\n",
       "      <th>id_prod</th>\n",
       "      <th>price</th>\n",
       "      <th>categ</th>\n",
       "    </tr>\n",
       "  </thead>\n",
       "  <tbody>\n",
       "  </tbody>\n",
       "</table>\n",
       "</div>"
      ],
      "text/plain": [
       "Empty DataFrame\n",
       "Columns: [id_prod, price, categ]\n",
       "Index: []"
      ]
     },
     "execution_count": 10,
     "metadata": {},
     "output_type": "execute_result"
    }
   ],
   "source": [
    "# On supprimer le produit yant pour id_prod(T_0) et comme valeur price(-1)\n",
    "\n",
    "product_new = product[product['id_prod'] != 'T_0']\n",
    "product_temp = product_new[product_new['price'] <= 0]\n",
    "product_temp.head()"
   ]
  },
  {
   "cell_type": "code",
   "execution_count": 11,
   "id": "8267240e",
   "metadata": {},
   "outputs": [
    {
     "data": {
      "text/plain": [
       "<matplotlib.axes._subplots.AxesSubplot at 0x7fc7b751d220>"
      ]
     },
     "execution_count": 11,
     "metadata": {},
     "output_type": "execute_result"
    },
    {
     "data": {
      "image/png": "[encoded data removed]",
      "text/plain": [
       "<Figure size 432x288 with 1 Axes>"
      ]
     },
     "metadata": {
      "needs_background": "light"
     },
     "output_type": "display_data"
    }
   ],
   "source": [
    "# Dans le dataframe 'customer', on regarde s'il n'existe pas de valeurs aberrantes au niveau des dates\n",
    "# (ex: dates de naissance supérieures à aujourd'hui)\n",
    "\n",
    "sns.histplot(customer['birth'])"
   ]
  },
  {
   "cell_type": "code",
   "execution_count": 12,
   "id": "451e254b",
   "metadata": {},
   "outputs": [
    {
     "data": {
      "text/html": [
       "<div>\n",
       "<style scoped>\n",
       "    .dataframe tbody tr th:only-of-type {\n",
       "        vertical-align: middle;\n",
       "    }\n",
       "\n",
       "    .dataframe tbody tr th {\n",
       "        vertical-align: top;\n",
       "    }\n",
       "\n",
       "    .dataframe thead th {\n",
       "        text-align: right;\n",
       "    }\n",
       "</style>\n",
       "<table border=\"1\" class=\"dataframe\">\n",
       "  <thead>\n",
       "    <tr style=\"text-align: right;\">\n",
       "      <th></th>\n",
       "      <th>client_id</th>\n",
       "      <th>sex</th>\n",
       "      <th>birth</th>\n",
       "    </tr>\n",
       "  </thead>\n",
       "  <tbody>\n",
       "  </tbody>\n",
       "</table>\n",
       "</div>"
      ],
      "text/plain": [
       "Empty DataFrame\n",
       "Columns: [client_id, sex, birth]\n",
       "Index: []"
      ]
     },
     "execution_count": 12,
     "metadata": {},
     "output_type": "execute_result"
    }
   ],
   "source": [
    "customer_temp = customer[customer['birth'] >= 2022]\n",
    "customer_temp.head()"
   ]
  },
  {
   "cell_type": "code",
   "execution_count": 13,
   "id": "254661a5",
   "metadata": {},
   "outputs": [
    {
     "data": {
      "text/html": [
       "<div>\n",
       "<style scoped>\n",
       "    .dataframe tbody tr th:only-of-type {\n",
       "        vertical-align: middle;\n",
       "    }\n",
       "\n",
       "    .dataframe tbody tr th {\n",
       "        vertical-align: top;\n",
       "    }\n",
       "\n",
       "    .dataframe thead th {\n",
       "        text-align: right;\n",
       "    }\n",
       "</style>\n",
       "<table border=\"1\" class=\"dataframe\">\n",
       "  <thead>\n",
       "    <tr style=\"text-align: right;\">\n",
       "      <th></th>\n",
       "      <th>id_prod</th>\n",
       "      <th>date</th>\n",
       "      <th>session_id</th>\n",
       "      <th>client_id</th>\n",
       "    </tr>\n",
       "  </thead>\n",
       "  <tbody>\n",
       "    <tr>\n",
       "      <th>3019</th>\n",
       "      <td>T_0</td>\n",
       "      <td>test_2021-03-01 02:30:02.237419</td>\n",
       "      <td>s_0</td>\n",
       "      <td>ct_0</td>\n",
       "    </tr>\n",
       "    <tr>\n",
       "      <th>5138</th>\n",
       "      <td>T_0</td>\n",
       "      <td>test_2021-03-01 02:30:02.237425</td>\n",
       "      <td>s_0</td>\n",
       "      <td>ct_0</td>\n",
       "    </tr>\n",
       "    <tr>\n",
       "      <th>9668</th>\n",
       "      <td>T_0</td>\n",
       "      <td>test_2021-03-01 02:30:02.237437</td>\n",
       "      <td>s_0</td>\n",
       "      <td>ct_1</td>\n",
       "    </tr>\n",
       "    <tr>\n",
       "      <th>10728</th>\n",
       "      <td>T_0</td>\n",
       "      <td>test_2021-03-01 02:30:02.237436</td>\n",
       "      <td>s_0</td>\n",
       "      <td>ct_0</td>\n",
       "    </tr>\n",
       "    <tr>\n",
       "      <th>15292</th>\n",
       "      <td>T_0</td>\n",
       "      <td>test_2021-03-01 02:30:02.237430</td>\n",
       "      <td>s_0</td>\n",
       "      <td>ct_0</td>\n",
       "    </tr>\n",
       "  </tbody>\n",
       "</table>\n",
       "</div>"
      ],
      "text/plain": [
       "      id_prod                             date session_id client_id\n",
       "3019      T_0  test_2021-03-01 02:30:02.237419        s_0      ct_0\n",
       "5138      T_0  test_2021-03-01 02:30:02.237425        s_0      ct_0\n",
       "9668      T_0  test_2021-03-01 02:30:02.237437        s_0      ct_1\n",
       "10728     T_0  test_2021-03-01 02:30:02.237436        s_0      ct_0\n",
       "15292     T_0  test_2021-03-01 02:30:02.237430        s_0      ct_0"
      ]
     },
     "metadata": {},
     "output_type": "display_data"
    },
    {
     "data": {
      "text/plain": [
       "(200, 4)"
      ]
     },
     "metadata": {},
     "output_type": "display_data"
    }
   ],
   "source": [
    "# Verifions maintenant que le produit(T_0) n'apparait pas dans la liste des transactions\n",
    "\n",
    "transaction_temp = transaction[transaction['id_prod'] == 'T_0']\n",
    "display(transaction_temp.head())\n",
    "display(transaction_temp.shape)"
   ]
  },
  {
   "cell_type": "code",
   "execution_count": 23,
   "id": "92c55ae2",
   "metadata": {},
   "outputs": [
    {
     "data": {
      "text/html": [
       "<div>\n",
       "<style scoped>\n",
       "    .dataframe tbody tr th:only-of-type {\n",
       "        vertical-align: middle;\n",
       "    }\n",
       "\n",
       "    .dataframe tbody tr th {\n",
       "        vertical-align: top;\n",
       "    }\n",
       "\n",
       "    .dataframe thead th {\n",
       "        text-align: right;\n",
       "    }\n",
       "</style>\n",
       "<table border=\"1\" class=\"dataframe\">\n",
       "  <thead>\n",
       "    <tr style=\"text-align: right;\">\n",
       "      <th></th>\n",
       "      <th>id_prod</th>\n",
       "      <th>date</th>\n",
       "      <th>session_id</th>\n",
       "      <th>client_id</th>\n",
       "    </tr>\n",
       "  </thead>\n",
       "  <tbody>\n",
       "  </tbody>\n",
       "</table>\n",
       "</div>"
      ],
      "text/plain": [
       "Empty DataFrame\n",
       "Columns: [id_prod, date, session_id, client_id]\n",
       "Index: []"
      ]
     },
     "execution_count": 23,
     "metadata": {},
     "output_type": "execute_result"
    }
   ],
   "source": [
    "# Il s'agit de transactions de test. Je prends la décision ici de ne pas les prendre en compte\n",
    "# pour la suite des analyses\n",
    "\n",
    "transaction_new = transaction[transaction['id_prod'] != 'T_0']\n",
    "transaction_temp = transaction_new[transaction_new['id_prod'] == 'T_0']\n",
    "transaction_temp.head()"
   ]
  },
  {
   "cell_type": "code",
   "execution_count": 24,
   "id": "89aa003a",
   "metadata": {},
   "outputs": [
    {
     "data": {
      "text/html": [
       "<div>\n",
       "<style scoped>\n",
       "    .dataframe tbody tr th:only-of-type {\n",
       "        vertical-align: middle;\n",
       "    }\n",
       "\n",
       "    .dataframe tbody tr th {\n",
       "        vertical-align: top;\n",
       "    }\n",
       "\n",
       "    .dataframe thead th {\n",
       "        text-align: right;\n",
       "    }\n",
       "</style>\n",
       "<table border=\"1\" class=\"dataframe\">\n",
       "  <thead>\n",
       "    <tr style=\"text-align: right;\">\n",
       "      <th></th>\n",
       "      <th>id_prod</th>\n",
       "      <th>session_id</th>\n",
       "      <th>client_id</th>\n",
       "      <th>n_date</th>\n",
       "    </tr>\n",
       "  </thead>\n",
       "  <tbody>\n",
       "    <tr>\n",
       "      <th>0</th>\n",
       "      <td>0_1518</td>\n",
       "      <td>s_211425</td>\n",
       "      <td>c_103</td>\n",
       "      <td>20/05/2022_13:21:29</td>\n",
       "    </tr>\n",
       "    <tr>\n",
       "      <th>1</th>\n",
       "      <td>1_251</td>\n",
       "      <td>s_158752</td>\n",
       "      <td>c_8534</td>\n",
       "      <td>02/02/2022_07:55:19</td>\n",
       "    </tr>\n",
       "    <tr>\n",
       "      <th>2</th>\n",
       "      <td>0_1277</td>\n",
       "      <td>s_225667</td>\n",
       "      <td>c_6714</td>\n",
       "      <td>18/06/2022_15:44:33</td>\n",
       "    </tr>\n",
       "    <tr>\n",
       "      <th>3</th>\n",
       "      <td>2_209</td>\n",
       "      <td>s_52962</td>\n",
       "      <td>c_6941</td>\n",
       "      <td>24/06/2021_04:19:29</td>\n",
       "    </tr>\n",
       "    <tr>\n",
       "      <th>4</th>\n",
       "      <td>0_1509</td>\n",
       "      <td>s_325227</td>\n",
       "      <td>c_4232</td>\n",
       "      <td>11/01/2023_08:22:08</td>\n",
       "    </tr>\n",
       "  </tbody>\n",
       "</table>\n",
       "</div>"
      ],
      "text/plain": [
       "  id_prod session_id client_id               n_date\n",
       "0  0_1518   s_211425     c_103  20/05/2022_13:21:29\n",
       "1   1_251   s_158752    c_8534  02/02/2022_07:55:19\n",
       "2  0_1277   s_225667    c_6714  18/06/2022_15:44:33\n",
       "3   2_209    s_52962    c_6941  24/06/2021_04:19:29\n",
       "4  0_1509   s_325227    c_4232  11/01/2023_08:22:08"
      ]
     },
     "execution_count": 24,
     "metadata": {},
     "output_type": "execute_result"
    }
   ],
   "source": [
    "# Nous modifions le format de date de transaction pour qu'il soit lisible et exploitable\n",
    "\n",
    "transaction_new.loc[:, 'date'] = pd.to_datetime(transaction_new.date)\n",
    "transaction_new.loc[:, 'n_date'] = transaction_new.loc[:, 'date'].dt.strftime('%d/%m/%Y_%H:%M:%S')\n",
    "transaction_new = transaction_new.drop(['date'], axis=1)\n",
    "transaction_new.head()"
   ]
  },
  {
   "cell_type": "code",
   "execution_count": 25,
   "id": "503aaa7d",
   "metadata": {},
   "outputs": [
    {
     "data": {
      "text/html": [
       "<div>\n",
       "<style scoped>\n",
       "    .dataframe tbody tr th:only-of-type {\n",
       "        vertical-align: middle;\n",
       "    }\n",
       "\n",
       "    .dataframe tbody tr th {\n",
       "        vertical-align: top;\n",
       "    }\n",
       "\n",
       "    .dataframe thead th {\n",
       "        text-align: right;\n",
       "    }\n",
       "</style>\n",
       "<table border=\"1\" class=\"dataframe\">\n",
       "  <thead>\n",
       "    <tr style=\"text-align: right;\">\n",
       "      <th></th>\n",
       "      <th>id_prod</th>\n",
       "      <th>session_id</th>\n",
       "      <th>client_id</th>\n",
       "      <th>n_date</th>\n",
       "      <th>combined</th>\n",
       "    </tr>\n",
       "  </thead>\n",
       "  <tbody>\n",
       "    <tr>\n",
       "      <th>0</th>\n",
       "      <td>0_1518</td>\n",
       "      <td>s_211425</td>\n",
       "      <td>c_103</td>\n",
       "      <td>20/05/2022_13:21:29</td>\n",
       "      <td>0_1518_c_103_20/05/2022_13:21:29</td>\n",
       "    </tr>\n",
       "    <tr>\n",
       "      <th>1</th>\n",
       "      <td>1_251</td>\n",
       "      <td>s_158752</td>\n",
       "      <td>c_8534</td>\n",
       "      <td>02/02/2022_07:55:19</td>\n",
       "      <td>1_251_c_8534_02/02/2022_07:55:19</td>\n",
       "    </tr>\n",
       "    <tr>\n",
       "      <th>2</th>\n",
       "      <td>0_1277</td>\n",
       "      <td>s_225667</td>\n",
       "      <td>c_6714</td>\n",
       "      <td>18/06/2022_15:44:33</td>\n",
       "      <td>0_1277_c_6714_18/06/2022_15:44:33</td>\n",
       "    </tr>\n",
       "    <tr>\n",
       "      <th>3</th>\n",
       "      <td>2_209</td>\n",
       "      <td>s_52962</td>\n",
       "      <td>c_6941</td>\n",
       "      <td>24/06/2021_04:19:29</td>\n",
       "      <td>2_209_c_6941_24/06/2021_04:19:29</td>\n",
       "    </tr>\n",
       "    <tr>\n",
       "      <th>4</th>\n",
       "      <td>0_1509</td>\n",
       "      <td>s_325227</td>\n",
       "      <td>c_4232</td>\n",
       "      <td>11/01/2023_08:22:08</td>\n",
       "      <td>0_1509_c_4232_11/01/2023_08:22:08</td>\n",
       "    </tr>\n",
       "  </tbody>\n",
       "</table>\n",
       "</div>"
      ],
      "text/plain": [
       "  id_prod session_id client_id               n_date  \\\n",
       "0  0_1518   s_211425     c_103  20/05/2022_13:21:29   \n",
       "1   1_251   s_158752    c_8534  02/02/2022_07:55:19   \n",
       "2  0_1277   s_225667    c_6714  18/06/2022_15:44:33   \n",
       "3   2_209    s_52962    c_6941  24/06/2021_04:19:29   \n",
       "4  0_1509   s_325227    c_4232  11/01/2023_08:22:08   \n",
       "\n",
       "                            combined  \n",
       "0   0_1518_c_103_20/05/2022_13:21:29  \n",
       "1   1_251_c_8534_02/02/2022_07:55:19  \n",
       "2  0_1277_c_6714_18/06/2022_15:44:33  \n",
       "3   2_209_c_6941_24/06/2021_04:19:29  \n",
       "4  0_1509_c_4232_11/01/2023_08:22:08  "
      ]
     },
     "execution_count": 25,
     "metadata": {},
     "output_type": "execute_result"
    }
   ],
   "source": [
    "# Nous allons vérifier que chaque transaction est unique avec l'id_prod, le client_id et la date\n",
    "\n",
    "temp = transaction_new\n",
    "temp['combined'] = transaction_new['id_prod'] +'_'+ transaction_new['client_id'] +'_'+ transaction_new['n_date']\n",
    "temp.head()"
   ]
  },
  {
   "cell_type": "code",
   "execution_count": 26,
   "id": "e7e78da0",
   "metadata": {},
   "outputs": [
    {
     "name": "stdout",
     "output_type": "stream",
     "text": [
      "Only Unique Values in the column : combined from transaction_new\n",
      "Dataframe shape : (679332, 5) (Rows, Columns)\n",
      "Nb de doublons dans la colonne 'combined' :  0\n"
     ]
    }
   ],
   "source": [
    "testUnicity(temp, 'combined')\n",
    "print(\"Nb de doublons dans la colonne 'combined' : \", temp.duplicated(subset=['combined']).sum())"
   ]
  },
  {
   "cell_type": "code",
   "execution_count": 27,
   "id": "f068b53d",
   "metadata": {},
   "outputs": [
    {
     "name": "stdout",
     "output_type": "stream",
     "text": [
      "  id_prod session_id client_id               n_date  \\\n",
      "0  0_1518   s_211425     c_103  20/05/2022_13:21:29   \n",
      "1   1_251   s_158752    c_8534  02/02/2022_07:55:19   \n",
      "2  0_1277   s_225667    c_6714  18/06/2022_15:44:33   \n",
      "3   2_209    s_52962    c_6941  24/06/2021_04:19:29   \n",
      "4  0_1509   s_325227    c_4232  11/01/2023_08:22:08   \n",
      "\n",
      "                            combined  \n",
      "0   0_1518_c_103_20/05/2022_13:21:29  \n",
      "1   1_251_c_8534_02/02/2022_07:55:19  \n",
      "2  0_1277_c_6714_18/06/2022_15:44:33  \n",
      "3   2_209_c_6941_24/06/2021_04:19:29  \n",
      "4  0_1509_c_4232_11/01/2023_08:22:08  \n"
     ]
    },
    {
     "data": {
      "text/html": [
       "<div>\n",
       "<style scoped>\n",
       "    .dataframe tbody tr th:only-of-type {\n",
       "        vertical-align: middle;\n",
       "    }\n",
       "\n",
       "    .dataframe tbody tr th {\n",
       "        vertical-align: top;\n",
       "    }\n",
       "\n",
       "    .dataframe thead th {\n",
       "        text-align: right;\n",
       "    }\n",
       "</style>\n",
       "<table border=\"1\" class=\"dataframe\">\n",
       "  <thead>\n",
       "    <tr style=\"text-align: right;\">\n",
       "      <th></th>\n",
       "      <th>id_prod</th>\n",
       "      <th>session_id</th>\n",
       "      <th>client_id</th>\n",
       "      <th>n_date</th>\n",
       "    </tr>\n",
       "  </thead>\n",
       "  <tbody>\n",
       "    <tr>\n",
       "      <th>0</th>\n",
       "      <td>0_1518</td>\n",
       "      <td>s_211425</td>\n",
       "      <td>c_103</td>\n",
       "      <td>20/05/2022_13:21:29</td>\n",
       "    </tr>\n",
       "    <tr>\n",
       "      <th>1</th>\n",
       "      <td>1_251</td>\n",
       "      <td>s_158752</td>\n",
       "      <td>c_8534</td>\n",
       "      <td>02/02/2022_07:55:19</td>\n",
       "    </tr>\n",
       "    <tr>\n",
       "      <th>2</th>\n",
       "      <td>0_1277</td>\n",
       "      <td>s_225667</td>\n",
       "      <td>c_6714</td>\n",
       "      <td>18/06/2022_15:44:33</td>\n",
       "    </tr>\n",
       "    <tr>\n",
       "      <th>3</th>\n",
       "      <td>2_209</td>\n",
       "      <td>s_52962</td>\n",
       "      <td>c_6941</td>\n",
       "      <td>24/06/2021_04:19:29</td>\n",
       "    </tr>\n",
       "    <tr>\n",
       "      <th>4</th>\n",
       "      <td>0_1509</td>\n",
       "      <td>s_325227</td>\n",
       "      <td>c_4232</td>\n",
       "      <td>11/01/2023_08:22:08</td>\n",
       "    </tr>\n",
       "  </tbody>\n",
       "</table>\n",
       "</div>"
      ],
      "text/plain": [
       "  id_prod session_id client_id               n_date\n",
       "0  0_1518   s_211425     c_103  20/05/2022_13:21:29\n",
       "1   1_251   s_158752    c_8534  02/02/2022_07:55:19\n",
       "2  0_1277   s_225667    c_6714  18/06/2022_15:44:33\n",
       "3   2_209    s_52962    c_6941  24/06/2021_04:19:29\n",
       "4  0_1509   s_325227    c_4232  11/01/2023_08:22:08"
      ]
     },
     "execution_count": 27,
     "metadata": {},
     "output_type": "execute_result"
    }
   ],
   "source": [
    "print(transaction_new.head())\n",
    "transaction_new = transaction_new.drop(['combined'], axis=1)\n",
    "transaction_new.head()"
   ]
  },
  {
   "cell_type": "markdown",
   "id": "1cb43d80",
   "metadata": {},
   "source": [
    "**Dernières verifications et jointures des dataframes**"
   ]
  },
  {
   "cell_type": "code",
   "execution_count": 28,
   "id": "4ff6e1bd",
   "metadata": {},
   "outputs": [
    {
     "data": {
      "text/html": [
       "<div>\n",
       "<style scoped>\n",
       "    .dataframe tbody tr th:only-of-type {\n",
       "        vertical-align: middle;\n",
       "    }\n",
       "\n",
       "    .dataframe tbody tr th {\n",
       "        vertical-align: top;\n",
       "    }\n",
       "\n",
       "    .dataframe thead th {\n",
       "        text-align: right;\n",
       "    }\n",
       "</style>\n",
       "<table border=\"1\" class=\"dataframe\">\n",
       "  <thead>\n",
       "    <tr style=\"text-align: right;\">\n",
       "      <th></th>\n",
       "      <th>id_prod</th>\n",
       "      <th>price</th>\n",
       "      <th>categ</th>\n",
       "      <th>session_id</th>\n",
       "      <th>client_id</th>\n",
       "      <th>n_date</th>\n",
       "      <th>_merge</th>\n",
       "    </tr>\n",
       "  </thead>\n",
       "  <tbody>\n",
       "    <tr>\n",
       "      <th>0</th>\n",
       "      <td>0_1421</td>\n",
       "      <td>19.99</td>\n",
       "      <td>0.0</td>\n",
       "      <td>s_168213</td>\n",
       "      <td>c_6389</td>\n",
       "      <td>20/02/2022_17:04:37</td>\n",
       "      <td>both</td>\n",
       "    </tr>\n",
       "    <tr>\n",
       "      <th>1</th>\n",
       "      <td>0_1421</td>\n",
       "      <td>19.99</td>\n",
       "      <td>0.0</td>\n",
       "      <td>s_299590</td>\n",
       "      <td>c_8364</td>\n",
       "      <td>19/11/2022_03:42:20</td>\n",
       "      <td>both</td>\n",
       "    </tr>\n",
       "    <tr>\n",
       "      <th>2</th>\n",
       "      <td>0_1421</td>\n",
       "      <td>19.99</td>\n",
       "      <td>0.0</td>\n",
       "      <td>s_92304</td>\n",
       "      <td>c_3544</td>\n",
       "      <td>19/09/2021_14:58:46</td>\n",
       "      <td>both</td>\n",
       "    </tr>\n",
       "    <tr>\n",
       "      <th>3</th>\n",
       "      <td>0_1421</td>\n",
       "      <td>19.99</td>\n",
       "      <td>0.0</td>\n",
       "      <td>s_325369</td>\n",
       "      <td>c_1025</td>\n",
       "      <td>11/01/2023_16:04:24</td>\n",
       "      <td>both</td>\n",
       "    </tr>\n",
       "    <tr>\n",
       "      <th>4</th>\n",
       "      <td>0_1421</td>\n",
       "      <td>19.99</td>\n",
       "      <td>0.0</td>\n",
       "      <td>s_70071</td>\n",
       "      <td>c_2298</td>\n",
       "      <td>01/08/2021_19:33:18</td>\n",
       "      <td>both</td>\n",
       "    </tr>\n",
       "  </tbody>\n",
       "</table>\n",
       "</div>"
      ],
      "text/plain": [
       "  id_prod  price  categ session_id client_id               n_date _merge\n",
       "0  0_1421  19.99    0.0   s_168213    c_6389  20/02/2022_17:04:37   both\n",
       "1  0_1421  19.99    0.0   s_299590    c_8364  19/11/2022_03:42:20   both\n",
       "2  0_1421  19.99    0.0    s_92304    c_3544  19/09/2021_14:58:46   both\n",
       "3  0_1421  19.99    0.0   s_325369    c_1025  11/01/2023_16:04:24   both\n",
       "4  0_1421  19.99    0.0    s_70071    c_2298  01/08/2021_19:33:18   both"
      ]
     },
     "execution_count": 28,
     "metadata": {},
     "output_type": "execute_result"
    }
   ],
   "source": [
    "# On peut maintenant joindre les 3 dataframes ensemble en gardant un oeil sur des valeurs NULL, NaN ou inexistantes\n",
    "# Nos 3 dataframes sont : customer, product_new, transaction_new\n",
    "\n",
    "prod_transac = product_new.merge(transaction_new, on='id_prod', how='outer', indicator=True)\n",
    "prod_transac.head()"
   ]
  },
  {
   "cell_type": "code",
   "execution_count": 29,
   "id": "7de24cfe",
   "metadata": {},
   "outputs": [
    {
     "data": {
      "text/plain": [
       "(242, 7)"
      ]
     },
     "metadata": {},
     "output_type": "display_data"
    },
    {
     "data": {
      "text/html": [
       "<div>\n",
       "<style scoped>\n",
       "    .dataframe tbody tr th:only-of-type {\n",
       "        vertical-align: middle;\n",
       "    }\n",
       "\n",
       "    .dataframe tbody tr th {\n",
       "        vertical-align: top;\n",
       "    }\n",
       "\n",
       "    .dataframe thead th {\n",
       "        text-align: right;\n",
       "    }\n",
       "</style>\n",
       "<table border=\"1\" class=\"dataframe\">\n",
       "  <thead>\n",
       "    <tr style=\"text-align: right;\">\n",
       "      <th></th>\n",
       "      <th>id_prod</th>\n",
       "      <th>price</th>\n",
       "      <th>categ</th>\n",
       "      <th>session_id</th>\n",
       "      <th>client_id</th>\n",
       "      <th>n_date</th>\n",
       "      <th>_merge</th>\n",
       "    </tr>\n",
       "  </thead>\n",
       "  <tbody>\n",
       "    <tr>\n",
       "      <th>39705</th>\n",
       "      <td>0_1016</td>\n",
       "      <td>35.06</td>\n",
       "      <td>0.0</td>\n",
       "      <td>NaN</td>\n",
       "      <td>NaN</td>\n",
       "      <td>NaN</td>\n",
       "      <td>left_only</td>\n",
       "    </tr>\n",
       "    <tr>\n",
       "      <th>62805</th>\n",
       "      <td>0_1780</td>\n",
       "      <td>1.67</td>\n",
       "      <td>0.0</td>\n",
       "      <td>NaN</td>\n",
       "      <td>NaN</td>\n",
       "      <td>NaN</td>\n",
       "      <td>left_only</td>\n",
       "    </tr>\n",
       "    <tr>\n",
       "      <th>162765</th>\n",
       "      <td>0_1062</td>\n",
       "      <td>20.08</td>\n",
       "      <td>0.0</td>\n",
       "      <td>NaN</td>\n",
       "      <td>NaN</td>\n",
       "      <td>NaN</td>\n",
       "      <td>left_only</td>\n",
       "    </tr>\n",
       "    <tr>\n",
       "      <th>177522</th>\n",
       "      <td>0_1119</td>\n",
       "      <td>2.99</td>\n",
       "      <td>0.0</td>\n",
       "      <td>NaN</td>\n",
       "      <td>NaN</td>\n",
       "      <td>NaN</td>\n",
       "      <td>left_only</td>\n",
       "    </tr>\n",
       "    <tr>\n",
       "      <th>181172</th>\n",
       "      <td>0_1014</td>\n",
       "      <td>1.15</td>\n",
       "      <td>0.0</td>\n",
       "      <td>NaN</td>\n",
       "      <td>NaN</td>\n",
       "      <td>NaN</td>\n",
       "      <td>left_only</td>\n",
       "    </tr>\n",
       "  </tbody>\n",
       "</table>\n",
       "</div>"
      ],
      "text/plain": [
       "       id_prod  price  categ session_id client_id n_date     _merge\n",
       "39705   0_1016  35.06    0.0        NaN       NaN    NaN  left_only\n",
       "62805   0_1780   1.67    0.0        NaN       NaN    NaN  left_only\n",
       "162765  0_1062  20.08    0.0        NaN       NaN    NaN  left_only\n",
       "177522  0_1119   2.99    0.0        NaN       NaN    NaN  left_only\n",
       "181172  0_1014   1.15    0.0        NaN       NaN    NaN  left_only"
      ]
     },
     "execution_count": 29,
     "metadata": {},
     "output_type": "execute_result"
    }
   ],
   "source": [
    "# On vérifie que la jointure est complète (_merge = both) pour toutes les valeurs du dataframe prod_transac\n",
    "\n",
    "prod_transac_temp = prod_transac[prod_transac['_merge'] != 'both']\n",
    "display(prod_transac_temp.shape)\n",
    "prod_transac_temp.head()"
   ]
  },
  {
   "cell_type": "code",
   "execution_count": 30,
   "id": "02289c9a",
   "metadata": {},
   "outputs": [
    {
     "data": {
      "text/plain": [
       "(21, 7)"
      ]
     },
     "metadata": {},
     "output_type": "display_data"
    },
    {
     "data": {
      "text/html": [
       "<div>\n",
       "<style scoped>\n",
       "    .dataframe tbody tr th:only-of-type {\n",
       "        vertical-align: middle;\n",
       "    }\n",
       "\n",
       "    .dataframe tbody tr th {\n",
       "        vertical-align: top;\n",
       "    }\n",
       "\n",
       "    .dataframe thead th {\n",
       "        text-align: right;\n",
       "    }\n",
       "</style>\n",
       "<table border=\"1\" class=\"dataframe\">\n",
       "  <thead>\n",
       "    <tr style=\"text-align: right;\">\n",
       "      <th></th>\n",
       "      <th>id_prod</th>\n",
       "      <th>price</th>\n",
       "      <th>categ</th>\n",
       "      <th>session_id</th>\n",
       "      <th>client_id</th>\n",
       "      <th>n_date</th>\n",
       "      <th>_merge</th>\n",
       "    </tr>\n",
       "  </thead>\n",
       "  <tbody>\n",
       "    <tr>\n",
       "      <th>39705</th>\n",
       "      <td>0_1016</td>\n",
       "      <td>35.06</td>\n",
       "      <td>0.0</td>\n",
       "      <td>NaN</td>\n",
       "      <td>NaN</td>\n",
       "      <td>NaN</td>\n",
       "      <td>left_only</td>\n",
       "    </tr>\n",
       "    <tr>\n",
       "      <th>62805</th>\n",
       "      <td>0_1780</td>\n",
       "      <td>1.67</td>\n",
       "      <td>0.0</td>\n",
       "      <td>NaN</td>\n",
       "      <td>NaN</td>\n",
       "      <td>NaN</td>\n",
       "      <td>left_only</td>\n",
       "    </tr>\n",
       "    <tr>\n",
       "      <th>162765</th>\n",
       "      <td>0_1062</td>\n",
       "      <td>20.08</td>\n",
       "      <td>0.0</td>\n",
       "      <td>NaN</td>\n",
       "      <td>NaN</td>\n",
       "      <td>NaN</td>\n",
       "      <td>left_only</td>\n",
       "    </tr>\n",
       "    <tr>\n",
       "      <th>177522</th>\n",
       "      <td>0_1119</td>\n",
       "      <td>2.99</td>\n",
       "      <td>0.0</td>\n",
       "      <td>NaN</td>\n",
       "      <td>NaN</td>\n",
       "      <td>NaN</td>\n",
       "      <td>left_only</td>\n",
       "    </tr>\n",
       "    <tr>\n",
       "      <th>181172</th>\n",
       "      <td>0_1014</td>\n",
       "      <td>1.15</td>\n",
       "      <td>0.0</td>\n",
       "      <td>NaN</td>\n",
       "      <td>NaN</td>\n",
       "      <td>NaN</td>\n",
       "      <td>left_only</td>\n",
       "    </tr>\n",
       "  </tbody>\n",
       "</table>\n",
       "</div>"
      ],
      "text/plain": [
       "       id_prod  price  categ session_id client_id n_date     _merge\n",
       "39705   0_1016  35.06    0.0        NaN       NaN    NaN  left_only\n",
       "62805   0_1780   1.67    0.0        NaN       NaN    NaN  left_only\n",
       "162765  0_1062  20.08    0.0        NaN       NaN    NaN  left_only\n",
       "177522  0_1119   2.99    0.0        NaN       NaN    NaN  left_only\n",
       "181172  0_1014   1.15    0.0        NaN       NaN    NaN  left_only"
      ]
     },
     "execution_count": 30,
     "metadata": {},
     "output_type": "execute_result"
    }
   ],
   "source": [
    "# Il existe donc 242 valeurs dont la jointure n'est pas complète (left_only et right_only)\n",
    "# Verifions ces valeurs afin de determiner si elles sont exploitables ou non\n",
    "\n",
    "temp_left = prod_transac_temp[prod_transac_temp['_merge'] == 'left_only']\n",
    "display(temp_left.shape)\n",
    "temp_left.head()"
   ]
  },
  {
   "cell_type": "code",
   "execution_count": 31,
   "id": "571c5b23",
   "metadata": {},
   "outputs": [
    {
     "data": {
      "text/plain": [
       "(221, 7)"
      ]
     },
     "metadata": {},
     "output_type": "display_data"
    },
    {
     "data": {
      "text/html": [
       "<div>\n",
       "<style scoped>\n",
       "    .dataframe tbody tr th:only-of-type {\n",
       "        vertical-align: middle;\n",
       "    }\n",
       "\n",
       "    .dataframe tbody tr th {\n",
       "        vertical-align: top;\n",
       "    }\n",
       "\n",
       "    .dataframe thead th {\n",
       "        text-align: right;\n",
       "    }\n",
       "</style>\n",
       "<table border=\"1\" class=\"dataframe\">\n",
       "  <thead>\n",
       "    <tr style=\"text-align: right;\">\n",
       "      <th></th>\n",
       "      <th>id_prod</th>\n",
       "      <th>price</th>\n",
       "      <th>categ</th>\n",
       "      <th>session_id</th>\n",
       "      <th>client_id</th>\n",
       "      <th>n_date</th>\n",
       "      <th>_merge</th>\n",
       "    </tr>\n",
       "  </thead>\n",
       "  <tbody>\n",
       "    <tr>\n",
       "      <th>679132</th>\n",
       "      <td>0_2245</td>\n",
       "      <td>NaN</td>\n",
       "      <td>NaN</td>\n",
       "      <td>s_272266</td>\n",
       "      <td>c_4746</td>\n",
       "      <td>23/09/2022_07:22:38</td>\n",
       "      <td>right_only</td>\n",
       "    </tr>\n",
       "    <tr>\n",
       "      <th>679133</th>\n",
       "      <td>0_2245</td>\n",
       "      <td>NaN</td>\n",
       "      <td>NaN</td>\n",
       "      <td>s_242482</td>\n",
       "      <td>c_6713</td>\n",
       "      <td>23/07/2022_09:24:14</td>\n",
       "      <td>right_only</td>\n",
       "    </tr>\n",
       "    <tr>\n",
       "      <th>679134</th>\n",
       "      <td>0_2245</td>\n",
       "      <td>NaN</td>\n",
       "      <td>NaN</td>\n",
       "      <td>s_306338</td>\n",
       "      <td>c_5108</td>\n",
       "      <td>03/12/2022_03:26:35</td>\n",
       "      <td>right_only</td>\n",
       "    </tr>\n",
       "    <tr>\n",
       "      <th>679135</th>\n",
       "      <td>0_2245</td>\n",
       "      <td>NaN</td>\n",
       "      <td>NaN</td>\n",
       "      <td>s_76493</td>\n",
       "      <td>c_1391</td>\n",
       "      <td>16/08/2021_11:33:25</td>\n",
       "      <td>right_only</td>\n",
       "    </tr>\n",
       "    <tr>\n",
       "      <th>679136</th>\n",
       "      <td>0_2245</td>\n",
       "      <td>NaN</td>\n",
       "      <td>NaN</td>\n",
       "      <td>s_239078</td>\n",
       "      <td>c_7954</td>\n",
       "      <td>16/07/2022_05:53:01</td>\n",
       "      <td>right_only</td>\n",
       "    </tr>\n",
       "  </tbody>\n",
       "</table>\n",
       "</div>"
      ],
      "text/plain": [
       "       id_prod  price  categ session_id client_id               n_date  \\\n",
       "679132  0_2245    NaN    NaN   s_272266    c_4746  23/09/2022_07:22:38   \n",
       "679133  0_2245    NaN    NaN   s_242482    c_6713  23/07/2022_09:24:14   \n",
       "679134  0_2245    NaN    NaN   s_306338    c_5108  03/12/2022_03:26:35   \n",
       "679135  0_2245    NaN    NaN    s_76493    c_1391  16/08/2021_11:33:25   \n",
       "679136  0_2245    NaN    NaN   s_239078    c_7954  16/07/2022_05:53:01   \n",
       "\n",
       "            _merge  \n",
       "679132  right_only  \n",
       "679133  right_only  \n",
       "679134  right_only  \n",
       "679135  right_only  \n",
       "679136  right_only  "
      ]
     },
     "execution_count": 31,
     "metadata": {},
     "output_type": "execute_result"
    }
   ],
   "source": [
    "temp_right = prod_transac_temp[prod_transac_temp['_merge'] == 'right_only']\n",
    "display(temp_right.shape)\n",
    "temp_right.head()"
   ]
  },
  {
   "cell_type": "code",
   "execution_count": 32,
   "id": "7f3b6010",
   "metadata": {},
   "outputs": [
    {
     "data": {
      "text/html": [
       "<div>\n",
       "<style scoped>\n",
       "    .dataframe tbody tr th:only-of-type {\n",
       "        vertical-align: middle;\n",
       "    }\n",
       "\n",
       "    .dataframe tbody tr th {\n",
       "        vertical-align: top;\n",
       "    }\n",
       "\n",
       "    .dataframe thead th {\n",
       "        text-align: right;\n",
       "    }\n",
       "</style>\n",
       "<table border=\"1\" class=\"dataframe\">\n",
       "  <thead>\n",
       "    <tr style=\"text-align: right;\">\n",
       "      <th></th>\n",
       "      <th>id_prod</th>\n",
       "      <th>price</th>\n",
       "      <th>categ</th>\n",
       "      <th>session_id</th>\n",
       "      <th>client_id</th>\n",
       "      <th>n_date</th>\n",
       "      <th>_merge</th>\n",
       "    </tr>\n",
       "  </thead>\n",
       "  <tbody>\n",
       "  </tbody>\n",
       "</table>\n",
       "</div>"
      ],
      "text/plain": [
       "Empty DataFrame\n",
       "Columns: [id_prod, price, categ, session_id, client_id, n_date, _merge]\n",
       "Index: []"
      ]
     },
     "execution_count": 32,
     "metadata": {},
     "output_type": "execute_result"
    }
   ],
   "source": [
    "# 21 produits n'ont pas de données sur leurs transactions\n",
    "# 221 produits n'ont pas d'informations de prix et de catégorie\n",
    "# Ces données ne sont donc pas exploitables, nous ne garderons que les valeurs dont la jointure est complète\n",
    "\n",
    "prod_transac_new = prod_transac[prod_transac['_merge'] == 'both']\n",
    "temp = prod_transac_new[prod_transac_new['_merge'] != 'both']\n",
    "temp.head()"
   ]
  },
  {
   "cell_type": "code",
   "execution_count": 33,
   "id": "3ea1804f",
   "metadata": {},
   "outputs": [
    {
     "data": {
      "text/html": [
       "<div>\n",
       "<style scoped>\n",
       "    .dataframe tbody tr th:only-of-type {\n",
       "        vertical-align: middle;\n",
       "    }\n",
       "\n",
       "    .dataframe tbody tr th {\n",
       "        vertical-align: top;\n",
       "    }\n",
       "\n",
       "    .dataframe thead th {\n",
       "        text-align: right;\n",
       "    }\n",
       "</style>\n",
       "<table border=\"1\" class=\"dataframe\">\n",
       "  <thead>\n",
       "    <tr style=\"text-align: right;\">\n",
       "      <th></th>\n",
       "      <th>id_prod</th>\n",
       "      <th>price</th>\n",
       "      <th>categ</th>\n",
       "      <th>session_id</th>\n",
       "      <th>client_id</th>\n",
       "      <th>n_date</th>\n",
       "    </tr>\n",
       "  </thead>\n",
       "  <tbody>\n",
       "    <tr>\n",
       "      <th>0</th>\n",
       "      <td>0_1421</td>\n",
       "      <td>19.99</td>\n",
       "      <td>0.0</td>\n",
       "      <td>s_168213</td>\n",
       "      <td>c_6389</td>\n",
       "      <td>20/02/2022_17:04:37</td>\n",
       "    </tr>\n",
       "    <tr>\n",
       "      <th>1</th>\n",
       "      <td>0_1421</td>\n",
       "      <td>19.99</td>\n",
       "      <td>0.0</td>\n",
       "      <td>s_299590</td>\n",
       "      <td>c_8364</td>\n",
       "      <td>19/11/2022_03:42:20</td>\n",
       "    </tr>\n",
       "    <tr>\n",
       "      <th>2</th>\n",
       "      <td>0_1421</td>\n",
       "      <td>19.99</td>\n",
       "      <td>0.0</td>\n",
       "      <td>s_92304</td>\n",
       "      <td>c_3544</td>\n",
       "      <td>19/09/2021_14:58:46</td>\n",
       "    </tr>\n",
       "    <tr>\n",
       "      <th>3</th>\n",
       "      <td>0_1421</td>\n",
       "      <td>19.99</td>\n",
       "      <td>0.0</td>\n",
       "      <td>s_325369</td>\n",
       "      <td>c_1025</td>\n",
       "      <td>11/01/2023_16:04:24</td>\n",
       "    </tr>\n",
       "    <tr>\n",
       "      <th>4</th>\n",
       "      <td>0_1421</td>\n",
       "      <td>19.99</td>\n",
       "      <td>0.0</td>\n",
       "      <td>s_70071</td>\n",
       "      <td>c_2298</td>\n",
       "      <td>01/08/2021_19:33:18</td>\n",
       "    </tr>\n",
       "  </tbody>\n",
       "</table>\n",
       "</div>"
      ],
      "text/plain": [
       "  id_prod  price  categ session_id client_id               n_date\n",
       "0  0_1421  19.99    0.0   s_168213    c_6389  20/02/2022_17:04:37\n",
       "1  0_1421  19.99    0.0   s_299590    c_8364  19/11/2022_03:42:20\n",
       "2  0_1421  19.99    0.0    s_92304    c_3544  19/09/2021_14:58:46\n",
       "3  0_1421  19.99    0.0   s_325369    c_1025  11/01/2023_16:04:24\n",
       "4  0_1421  19.99    0.0    s_70071    c_2298  01/08/2021_19:33:18"
      ]
     },
     "execution_count": 33,
     "metadata": {},
     "output_type": "execute_result"
    }
   ],
   "source": [
    "# On supprime la colonne '_merge' qui ne nous sera pas utile pour la suite \n",
    "\n",
    "prod_transac_new = prod_transac_new.drop(['_merge'], axis=1)\n",
    "prod_transac_new.head()"
   ]
  },
  {
   "cell_type": "code",
   "execution_count": 34,
   "id": "128bffb0",
   "metadata": {},
   "outputs": [
    {
     "data": {
      "text/html": [
       "<div>\n",
       "<style scoped>\n",
       "    .dataframe tbody tr th:only-of-type {\n",
       "        vertical-align: middle;\n",
       "    }\n",
       "\n",
       "    .dataframe tbody tr th {\n",
       "        vertical-align: top;\n",
       "    }\n",
       "\n",
       "    .dataframe thead th {\n",
       "        text-align: right;\n",
       "    }\n",
       "</style>\n",
       "<table border=\"1\" class=\"dataframe\">\n",
       "  <thead>\n",
       "    <tr style=\"text-align: right;\">\n",
       "      <th></th>\n",
       "      <th>id_prod</th>\n",
       "      <th>price</th>\n",
       "      <th>categ</th>\n",
       "      <th>session_id</th>\n",
       "      <th>client_id</th>\n",
       "      <th>n_date</th>\n",
       "      <th>sex</th>\n",
       "      <th>birth</th>\n",
       "      <th>_merge</th>\n",
       "    </tr>\n",
       "  </thead>\n",
       "  <tbody>\n",
       "    <tr>\n",
       "      <th>0</th>\n",
       "      <td>0_1421</td>\n",
       "      <td>19.99</td>\n",
       "      <td>0.0</td>\n",
       "      <td>s_168213</td>\n",
       "      <td>c_6389</td>\n",
       "      <td>20/02/2022_17:04:37</td>\n",
       "      <td>f</td>\n",
       "      <td>1991</td>\n",
       "      <td>both</td>\n",
       "    </tr>\n",
       "    <tr>\n",
       "      <th>1</th>\n",
       "      <td>0_1421</td>\n",
       "      <td>19.99</td>\n",
       "      <td>0.0</td>\n",
       "      <td>s_285450</td>\n",
       "      <td>c_6389</td>\n",
       "      <td>20/10/2022_17:04:37</td>\n",
       "      <td>f</td>\n",
       "      <td>1991</td>\n",
       "      <td>both</td>\n",
       "    </tr>\n",
       "    <tr>\n",
       "      <th>2</th>\n",
       "      <td>0_2131</td>\n",
       "      <td>8.99</td>\n",
       "      <td>0.0</td>\n",
       "      <td>s_102458</td>\n",
       "      <td>c_6389</td>\n",
       "      <td>09/10/2021_21:47:06</td>\n",
       "      <td>f</td>\n",
       "      <td>1991</td>\n",
       "      <td>both</td>\n",
       "    </tr>\n",
       "    <tr>\n",
       "      <th>3</th>\n",
       "      <td>0_1635</td>\n",
       "      <td>16.99</td>\n",
       "      <td>0.0</td>\n",
       "      <td>s_26841</td>\n",
       "      <td>c_6389</td>\n",
       "      <td>28/04/2021_06:08:38</td>\n",
       "      <td>f</td>\n",
       "      <td>1991</td>\n",
       "      <td>both</td>\n",
       "    </tr>\n",
       "    <tr>\n",
       "      <th>4</th>\n",
       "      <td>0_166</td>\n",
       "      <td>1.83</td>\n",
       "      <td>0.0</td>\n",
       "      <td>s_62585</td>\n",
       "      <td>c_6389</td>\n",
       "      <td>15/07/2021_10:35:31</td>\n",
       "      <td>f</td>\n",
       "      <td>1991</td>\n",
       "      <td>both</td>\n",
       "    </tr>\n",
       "  </tbody>\n",
       "</table>\n",
       "</div>"
      ],
      "text/plain": [
       "  id_prod  price  categ session_id client_id               n_date sex  birth  \\\n",
       "0  0_1421  19.99    0.0   s_168213    c_6389  20/02/2022_17:04:37   f   1991   \n",
       "1  0_1421  19.99    0.0   s_285450    c_6389  20/10/2022_17:04:37   f   1991   \n",
       "2  0_2131   8.99    0.0   s_102458    c_6389  09/10/2021_21:47:06   f   1991   \n",
       "3  0_1635  16.99    0.0    s_26841    c_6389  28/04/2021_06:08:38   f   1991   \n",
       "4   0_166   1.83    0.0    s_62585    c_6389  15/07/2021_10:35:31   f   1991   \n",
       "\n",
       "  _merge  \n",
       "0   both  \n",
       "1   both  \n",
       "2   both  \n",
       "3   both  \n",
       "4   both  "
      ]
     },
     "execution_count": 34,
     "metadata": {},
     "output_type": "execute_result"
    }
   ],
   "source": [
    "# On peut maintenant joindre les 2 dataframes : customer et prod_transac_new\n",
    "\n",
    "complete_df = prod_transac_new.merge(customer, on='client_id', how='outer', indicator=True)\n",
    "complete_df.head()"
   ]
  },
  {
   "cell_type": "code",
   "execution_count": 35,
   "id": "a9d260bc",
   "metadata": {},
   "outputs": [
    {
     "name": "stdout",
     "output_type": "stream",
     "text": [
      "Shape du dataframe complete_df :                  (679134, 9)\n",
      "Shape du dataframe complete_df['_merge'] = both : (679111, 9)\n"
     ]
    }
   ],
   "source": [
    "# Même vérification que sur la jointure précdente pour s'assurer qu'elle est complète\n",
    "\n",
    "print(\"Shape du dataframe complete_df :                 \", complete_df.shape)\n",
    "temp_complete = complete_df[complete_df['_merge'] == 'both']\n",
    "print(\"Shape du dataframe complete_df['_merge'] = both :\", temp_complete.shape)"
   ]
  },
  {
   "cell_type": "code",
   "execution_count": 36,
   "id": "a75a5ec5",
   "metadata": {},
   "outputs": [
    {
     "data": {
      "text/plain": [
       "(23, 9)"
      ]
     },
     "metadata": {},
     "output_type": "display_data"
    },
    {
     "data": {
      "text/html": [
       "<div>\n",
       "<style scoped>\n",
       "    .dataframe tbody tr th:only-of-type {\n",
       "        vertical-align: middle;\n",
       "    }\n",
       "\n",
       "    .dataframe tbody tr th {\n",
       "        vertical-align: top;\n",
       "    }\n",
       "\n",
       "    .dataframe thead th {\n",
       "        text-align: right;\n",
       "    }\n",
       "</style>\n",
       "<table border=\"1\" class=\"dataframe\">\n",
       "  <thead>\n",
       "    <tr style=\"text-align: right;\">\n",
       "      <th></th>\n",
       "      <th>id_prod</th>\n",
       "      <th>price</th>\n",
       "      <th>categ</th>\n",
       "      <th>session_id</th>\n",
       "      <th>client_id</th>\n",
       "      <th>n_date</th>\n",
       "      <th>sex</th>\n",
       "      <th>birth</th>\n",
       "      <th>_merge</th>\n",
       "    </tr>\n",
       "  </thead>\n",
       "  <tbody>\n",
       "    <tr>\n",
       "      <th>679111</th>\n",
       "      <td>NaN</td>\n",
       "      <td>NaN</td>\n",
       "      <td>NaN</td>\n",
       "      <td>NaN</td>\n",
       "      <td>c_8253</td>\n",
       "      <td>NaN</td>\n",
       "      <td>f</td>\n",
       "      <td>2001</td>\n",
       "      <td>right_only</td>\n",
       "    </tr>\n",
       "    <tr>\n",
       "      <th>679112</th>\n",
       "      <td>NaN</td>\n",
       "      <td>NaN</td>\n",
       "      <td>NaN</td>\n",
       "      <td>NaN</td>\n",
       "      <td>c_3789</td>\n",
       "      <td>NaN</td>\n",
       "      <td>f</td>\n",
       "      <td>1997</td>\n",
       "      <td>right_only</td>\n",
       "    </tr>\n",
       "    <tr>\n",
       "      <th>679113</th>\n",
       "      <td>NaN</td>\n",
       "      <td>NaN</td>\n",
       "      <td>NaN</td>\n",
       "      <td>NaN</td>\n",
       "      <td>c_4406</td>\n",
       "      <td>NaN</td>\n",
       "      <td>f</td>\n",
       "      <td>1998</td>\n",
       "      <td>right_only</td>\n",
       "    </tr>\n",
       "    <tr>\n",
       "      <th>679114</th>\n",
       "      <td>NaN</td>\n",
       "      <td>NaN</td>\n",
       "      <td>NaN</td>\n",
       "      <td>NaN</td>\n",
       "      <td>ct_0</td>\n",
       "      <td>NaN</td>\n",
       "      <td>f</td>\n",
       "      <td>2001</td>\n",
       "      <td>right_only</td>\n",
       "    </tr>\n",
       "    <tr>\n",
       "      <th>679115</th>\n",
       "      <td>NaN</td>\n",
       "      <td>NaN</td>\n",
       "      <td>NaN</td>\n",
       "      <td>NaN</td>\n",
       "      <td>c_2706</td>\n",
       "      <td>NaN</td>\n",
       "      <td>f</td>\n",
       "      <td>1967</td>\n",
       "      <td>right_only</td>\n",
       "    </tr>\n",
       "  </tbody>\n",
       "</table>\n",
       "</div>"
      ],
      "text/plain": [
       "       id_prod  price  categ session_id client_id n_date sex  birth  \\\n",
       "679111     NaN    NaN    NaN        NaN    c_8253    NaN   f   2001   \n",
       "679112     NaN    NaN    NaN        NaN    c_3789    NaN   f   1997   \n",
       "679113     NaN    NaN    NaN        NaN    c_4406    NaN   f   1998   \n",
       "679114     NaN    NaN    NaN        NaN      ct_0    NaN   f   2001   \n",
       "679115     NaN    NaN    NaN        NaN    c_2706    NaN   f   1967   \n",
       "\n",
       "            _merge  \n",
       "679111  right_only  \n",
       "679112  right_only  \n",
       "679113  right_only  \n",
       "679114  right_only  \n",
       "679115  right_only  "
      ]
     },
     "execution_count": 36,
     "metadata": {},
     "output_type": "execute_result"
    }
   ],
   "source": [
    "# Il y a donc une différence de 23 lignes\n",
    "# Identifions les\n",
    "\n",
    "temp_right = complete_df[complete_df['_merge'] == 'right_only']\n",
    "display(temp_right.shape)\n",
    "temp_right.head()"
   ]
  },
  {
   "cell_type": "code",
   "execution_count": 37,
   "id": "846586a5",
   "metadata": {},
   "outputs": [
    {
     "data": {
      "text/html": [
       "<div>\n",
       "<style scoped>\n",
       "    .dataframe tbody tr th:only-of-type {\n",
       "        vertical-align: middle;\n",
       "    }\n",
       "\n",
       "    .dataframe tbody tr th {\n",
       "        vertical-align: top;\n",
       "    }\n",
       "\n",
       "    .dataframe thead th {\n",
       "        text-align: right;\n",
       "    }\n",
       "</style>\n",
       "<table border=\"1\" class=\"dataframe\">\n",
       "  <thead>\n",
       "    <tr style=\"text-align: right;\">\n",
       "      <th></th>\n",
       "      <th>id_prod</th>\n",
       "      <th>price</th>\n",
       "      <th>categ</th>\n",
       "      <th>session_id</th>\n",
       "      <th>client_id</th>\n",
       "      <th>n_date</th>\n",
       "      <th>sex</th>\n",
       "      <th>birth</th>\n",
       "    </tr>\n",
       "  </thead>\n",
       "  <tbody>\n",
       "    <tr>\n",
       "      <th>0</th>\n",
       "      <td>0_1421</td>\n",
       "      <td>19.99</td>\n",
       "      <td>0.0</td>\n",
       "      <td>s_168213</td>\n",
       "      <td>c_6389</td>\n",
       "      <td>20/02/2022_17:04:37</td>\n",
       "      <td>f</td>\n",
       "      <td>1991</td>\n",
       "    </tr>\n",
       "    <tr>\n",
       "      <th>1</th>\n",
       "      <td>0_1421</td>\n",
       "      <td>19.99</td>\n",
       "      <td>0.0</td>\n",
       "      <td>s_285450</td>\n",
       "      <td>c_6389</td>\n",
       "      <td>20/10/2022_17:04:37</td>\n",
       "      <td>f</td>\n",
       "      <td>1991</td>\n",
       "    </tr>\n",
       "    <tr>\n",
       "      <th>2</th>\n",
       "      <td>0_2131</td>\n",
       "      <td>8.99</td>\n",
       "      <td>0.0</td>\n",
       "      <td>s_102458</td>\n",
       "      <td>c_6389</td>\n",
       "      <td>09/10/2021_21:47:06</td>\n",
       "      <td>f</td>\n",
       "      <td>1991</td>\n",
       "    </tr>\n",
       "    <tr>\n",
       "      <th>3</th>\n",
       "      <td>0_1635</td>\n",
       "      <td>16.99</td>\n",
       "      <td>0.0</td>\n",
       "      <td>s_26841</td>\n",
       "      <td>c_6389</td>\n",
       "      <td>28/04/2021_06:08:38</td>\n",
       "      <td>f</td>\n",
       "      <td>1991</td>\n",
       "    </tr>\n",
       "    <tr>\n",
       "      <th>4</th>\n",
       "      <td>0_166</td>\n",
       "      <td>1.83</td>\n",
       "      <td>0.0</td>\n",
       "      <td>s_62585</td>\n",
       "      <td>c_6389</td>\n",
       "      <td>15/07/2021_10:35:31</td>\n",
       "      <td>f</td>\n",
       "      <td>1991</td>\n",
       "    </tr>\n",
       "  </tbody>\n",
       "</table>\n",
       "</div>"
      ],
      "text/plain": [
       "  id_prod  price  categ session_id client_id               n_date sex  birth\n",
       "0  0_1421  19.99    0.0   s_168213    c_6389  20/02/2022_17:04:37   f   1991\n",
       "1  0_1421  19.99    0.0   s_285450    c_6389  20/10/2022_17:04:37   f   1991\n",
       "2  0_2131   8.99    0.0   s_102458    c_6389  09/10/2021_21:47:06   f   1991\n",
       "3  0_1635  16.99    0.0    s_26841    c_6389  28/04/2021_06:08:38   f   1991\n",
       "4   0_166   1.83    0.0    s_62585    c_6389  15/07/2021_10:35:31   f   1991"
      ]
     },
     "execution_count": 37,
     "metadata": {},
     "output_type": "execute_result"
    }
   ],
   "source": [
    "# Ces clients n'ont pas de données de transactions, nous pouvons les supprimer du dataframe\n",
    "\n",
    "complete_df = complete_df[complete_df['_merge'] == 'both']\n",
    "complete_df = complete_df.drop(['_merge'], axis=1)\n",
    "complete_df.head()"
   ]
  },
  {
   "cell_type": "code",
   "execution_count": 38,
   "id": "0ca372f2",
   "metadata": {},
   "outputs": [],
   "source": [
    "# Nous avons à présent un dataframe complet et nettoyer : complete_df\n",
    "# Il regroupe les données dont nous avons besoin pour les prochaines analyse\n",
    "# les données : clients, produits et transactionnels"
   ]
  },
  {
   "cell_type": "markdown",
   "id": "849e7187",
   "metadata": {},
   "source": [
    "## Analyses demandées par Antoine et Julie"
   ]
  },
  {
   "cell_type": "code",
   "execution_count": 39,
   "id": "ef3bbdf3",
   "metadata": {},
   "outputs": [
    {
     "data": {
      "text/html": [
       "<div>\n",
       "<style scoped>\n",
       "    .dataframe tbody tr th:only-of-type {\n",
       "        vertical-align: middle;\n",
       "    }\n",
       "\n",
       "    .dataframe tbody tr th {\n",
       "        vertical-align: top;\n",
       "    }\n",
       "\n",
       "    .dataframe thead th {\n",
       "        text-align: right;\n",
       "    }\n",
       "</style>\n",
       "<table border=\"1\" class=\"dataframe\">\n",
       "  <thead>\n",
       "    <tr style=\"text-align: right;\">\n",
       "      <th></th>\n",
       "      <th>id_prod</th>\n",
       "      <th>price</th>\n",
       "      <th>categ</th>\n",
       "      <th>session_id</th>\n",
       "      <th>client_id</th>\n",
       "      <th>sex</th>\n",
       "      <th>birth</th>\n",
       "      <th>date</th>\n",
       "      <th>time</th>\n",
       "    </tr>\n",
       "  </thead>\n",
       "  <tbody>\n",
       "    <tr>\n",
       "      <th>0</th>\n",
       "      <td>0_1421</td>\n",
       "      <td>19.99</td>\n",
       "      <td>0.0</td>\n",
       "      <td>s_168213</td>\n",
       "      <td>c_6389</td>\n",
       "      <td>f</td>\n",
       "      <td>1991</td>\n",
       "      <td>20/02/2022</td>\n",
       "      <td>17:04:37</td>\n",
       "    </tr>\n",
       "    <tr>\n",
       "      <th>1</th>\n",
       "      <td>0_1421</td>\n",
       "      <td>19.99</td>\n",
       "      <td>0.0</td>\n",
       "      <td>s_285450</td>\n",
       "      <td>c_6389</td>\n",
       "      <td>f</td>\n",
       "      <td>1991</td>\n",
       "      <td>20/10/2022</td>\n",
       "      <td>17:04:37</td>\n",
       "    </tr>\n",
       "    <tr>\n",
       "      <th>2</th>\n",
       "      <td>0_2131</td>\n",
       "      <td>8.99</td>\n",
       "      <td>0.0</td>\n",
       "      <td>s_102458</td>\n",
       "      <td>c_6389</td>\n",
       "      <td>f</td>\n",
       "      <td>1991</td>\n",
       "      <td>09/10/2021</td>\n",
       "      <td>21:47:06</td>\n",
       "    </tr>\n",
       "    <tr>\n",
       "      <th>3</th>\n",
       "      <td>0_1635</td>\n",
       "      <td>16.99</td>\n",
       "      <td>0.0</td>\n",
       "      <td>s_26841</td>\n",
       "      <td>c_6389</td>\n",
       "      <td>f</td>\n",
       "      <td>1991</td>\n",
       "      <td>28/04/2021</td>\n",
       "      <td>06:08:38</td>\n",
       "    </tr>\n",
       "    <tr>\n",
       "      <th>4</th>\n",
       "      <td>0_166</td>\n",
       "      <td>1.83</td>\n",
       "      <td>0.0</td>\n",
       "      <td>s_62585</td>\n",
       "      <td>c_6389</td>\n",
       "      <td>f</td>\n",
       "      <td>1991</td>\n",
       "      <td>15/07/2021</td>\n",
       "      <td>10:35:31</td>\n",
       "    </tr>\n",
       "  </tbody>\n",
       "</table>\n",
       "</div>"
      ],
      "text/plain": [
       "  id_prod  price  categ session_id client_id sex  birth        date      time\n",
       "0  0_1421  19.99    0.0   s_168213    c_6389   f   1991  20/02/2022  17:04:37\n",
       "1  0_1421  19.99    0.0   s_285450    c_6389   f   1991  20/10/2022  17:04:37\n",
       "2  0_2131   8.99    0.0   s_102458    c_6389   f   1991  09/10/2021  21:47:06\n",
       "3  0_1635  16.99    0.0    s_26841    c_6389   f   1991  28/04/2021  06:08:38\n",
       "4   0_166   1.83    0.0    s_62585    c_6389   f   1991  15/07/2021  10:35:31"
      ]
     },
     "execution_count": 39,
     "metadata": {},
     "output_type": "execute_result"
    }
   ],
   "source": [
    "# Afin de pouvoir exploiter au mieux les informations liées à la colonne n_date\n",
    "# Nous décidons de séparer l'heure et la date dans 2 colonnes distinctes\n",
    "\n",
    "complete_df[['date', 'time']] = complete_df['n_date'].str.split('_', 1, expand=True)\n",
    "complete_df = complete_df.drop(['n_date'], axis=1)\n",
    "complete_df.head()"
   ]
  },
  {
   "cell_type": "code",
   "execution_count": 40,
   "id": "a76e2a5e",
   "metadata": {},
   "outputs": [],
   "source": [
    "complete_df.to_csv('complete.csv')"
   ]
  },
  {
   "cell_type": "code",
   "execution_count": null,
   "id": "70bf8f0f",
   "metadata": {},
   "outputs": [],
   "source": []
  }
 ],
 "metadata": {
  "kernelspec": {
   "display_name": "Python 3 (ipykernel)",
   "language": "python",
   "name": "python3"
  },
  "language_info": {
   "codemirror_mode": {
    "name": "ipython",
    "version": 3
   },
   "file_extension": ".py",
   "mimetype": "text/x-python",
   "name": "python",
   "nbconvert_exporter": "python",
   "pygments_lexer": "ipython3",
   "version": "3.8.10"
  }
 },
 "nbformat": 4,
 "nbformat_minor": 5
}
